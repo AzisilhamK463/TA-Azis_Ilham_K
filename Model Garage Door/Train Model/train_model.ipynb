{
 "cells": [
  {
   "cell_type": "code",
   "execution_count": 1,
   "id": "cfcf8490",
   "metadata": {},
   "outputs": [
    {
     "name": "stdout",
     "output_type": "stream",
     "text": [
      "All libraries imported successfully!\n",
      "TensorFlow version: 2.18.0\n",
      "Artifacts will be saved in: artifacts\n",
      "Visualizations will be saved in: visualization\n",
      "Checkpoints will be saved in: checkpoints\n"
     ]
    }
   ],
   "source": [
    "# ================================\n",
    "# 1. IMPORT LIBRARIES AND SETUP\n",
    "# ================================\n",
    "\n",
    "import pandas as pd\n",
    "import numpy as np\n",
    "import matplotlib.pyplot as plt\n",
    "import seaborn as sns\n",
    "import warnings\n",
    "import os\n",
    "import pickle\n",
    "import json\n",
    "from collections import Counter\n",
    "from imblearn.over_sampling import RandomOverSampler\n",
    "from imblearn.pipeline import Pipeline\n",
    "warnings.filterwarnings('ignore')\n",
    "\n",
    "# Machine Learning Libraries\n",
    "from sklearn.model_selection import train_test_split, GridSearchCV, cross_val_score, StratifiedKFold\n",
    "from sklearn.preprocessing import MinMaxScaler, LabelEncoder\n",
    "from sklearn.impute import SimpleImputer\n",
    "from sklearn.metrics import classification_report, confusion_matrix, accuracy_score, precision_score, recall_score, f1_score\n",
    "from sklearn.utils.class_weight import compute_class_weight\n",
    "from imblearn.over_sampling import SMOTE\n",
    "from sklearn.utils import resample\n",
    "\n",
    "# Deep Learning Libraries\n",
    "import tensorflow as tf\n",
    "from tensorflow.keras.layers import (Input, LSTM, Dense, Dropout, GlobalMaxPooling1D,\n",
    "                                     BatchNormalization, LayerNormalization, Add,\n",
    "                                     Bidirectional, MultiHeadAttention)\n",
    "from tensorflow.keras.models import Model\n",
    "from tensorflow.keras.optimizers import Adam\n",
    "from tensorflow.keras.callbacks import EarlyStopping, ModelCheckpoint, ReduceLROnPlateau\n",
    "from tensorflow.keras.utils import to_categorical\n",
    "from tensorflow.keras.regularizers import l2\n",
    "from tensorflow.keras.metrics import Precision, Recall, AUC\n",
    "from keras import regularizers\n",
    "from tensorflow.keras import layers, models, callbacks, utils\n",
    "from scikeras.wrappers import KerasClassifier\n",
    "from sklearn.manifold import TSNE\n",
    "# Set random seeds for reproducibility\n",
    "np.random.seed(42)\n",
    "tf.random.set_seed(42)\n",
    "\n",
    "# Create directories for artifacts and visualizations\n",
    "artifacts_dir = \"artifacts\"\n",
    "visualization_dir = \"visualization\"\n",
    "checkpoint_dir = 'checkpoints'\n",
    "\n",
    "os.makedirs(artifacts_dir, exist_ok=True)\n",
    "os.makedirs(visualization_dir, exist_ok=True)\n",
    "os.makedirs(checkpoint_dir, exist_ok=True)\n",
    "\n",
    "print(\"All libraries imported successfully!\")\n",
    "print(f\"TensorFlow version: {tf.__version__}\")\n",
    "print(f\"Artifacts will be saved in: {artifacts_dir}\")\n",
    "print(f\"Visualizations will be saved in: {visualization_dir}\")\n",
    "print(f\"Checkpoints will be saved in: {checkpoint_dir}\")"
   ]
  },
  {
   "cell_type": "code",
   "execution_count": 2,
   "id": "8b884ba0",
   "metadata": {},
   "outputs": [],
   "source": [
    "with open(os.path.join(artifacts_dir, 'data_preprocessing.pkl'), 'rb') as f:\n",
    "    X_filtered, y_encoded = pickle.load(f)"
   ]
  },
  {
   "cell_type": "code",
   "execution_count": 2,
   "id": "62f14894",
   "metadata": {},
   "outputs": [
    {
     "name": "stdout",
     "output_type": "stream",
     "text": [
      "Dataset loaded successfully!\n",
      "Dataset shape: (39587, 10)\n"
     ]
    }
   ],
   "source": [
    "df = pd.read_csv(r'D:\\Skripsi\\Model\\Model Garage Door\\Data Preprocessing\\artifacts\\data_preprocessing.csv')\n",
    "print(\"Dataset loaded successfully!\")\n",
    "print(f\"Dataset shape: {df.shape}\")"
   ]
  },
  {
   "cell_type": "code",
   "execution_count": 3,
   "id": "9418d5d6",
   "metadata": {},
   "outputs": [
    {
     "name": "stdout",
     "output_type": "stream",
     "text": [
      "\n",
      "==================================================\n",
      "DATASET OVERVIEW\n",
      "==================================================\n",
      "   is_weekend  hour_sin  hour_cos   min_sin   min_cos  time_diff  \\\n",
      "0         1.0  0.508666       0.0  0.043227  0.296632        0.0   \n",
      "1         1.0  0.508666       0.0  0.043227  0.296632        0.0   \n",
      "2         1.0  0.508666       0.0  0.043227  0.296632        0.0   \n",
      "3         1.0  0.508666       0.0  0.043227  0.296632        0.0   \n",
      "4         1.0  0.508666       0.0  0.043227  0.296632        0.0   \n",
      "5         1.0  0.508666       0.0  0.043227  0.296632        0.0   \n",
      "6         1.0  0.508666       0.0  0.043227  0.296632        0.0   \n",
      "7         1.0  0.508666       0.0  0.043227  0.296632        0.0   \n",
      "8         1.0  0.508666       0.0  0.043227  0.296632        0.0   \n",
      "9         1.0  0.508666       0.0  0.043227  0.296632        0.0   \n",
      "\n",
      "   door_state_encoded  phone_dom_freq  phone_entropy  label  \n",
      "0                 0.0             0.0            0.0      3  \n",
      "1                 0.0             0.0            0.0      3  \n",
      "2                 0.0             0.0            0.0      3  \n",
      "3                 0.0             0.0            0.0      3  \n",
      "4                 0.0             0.0            0.0      3  \n",
      "5                 0.0             0.0            0.0      3  \n",
      "6                 0.0             0.0            0.0      3  \n",
      "7                 0.0             0.0            0.0      3  \n",
      "8                 0.0             0.0            0.0      3  \n",
      "9                 0.0             0.2            0.0      3  \n",
      "\n",
      "Dataset Info:\n",
      "<class 'pandas.core.frame.DataFrame'>\n",
      "RangeIndex: 39587 entries, 0 to 39586\n",
      "Data columns (total 10 columns):\n",
      " #   Column              Non-Null Count  Dtype  \n",
      "---  ------              --------------  -----  \n",
      " 0   is_weekend          39587 non-null  float64\n",
      " 1   hour_sin            39587 non-null  float64\n",
      " 2   hour_cos            39587 non-null  float64\n",
      " 3   min_sin             39587 non-null  float64\n",
      " 4   min_cos             39587 non-null  float64\n",
      " 5   time_diff           39587 non-null  float64\n",
      " 6   door_state_encoded  39587 non-null  float64\n",
      " 7   phone_dom_freq      39587 non-null  float64\n",
      " 8   phone_entropy       39587 non-null  float64\n",
      " 9   label               39587 non-null  int64  \n",
      "dtypes: float64(9), int64(1)\n",
      "memory usage: 3.0 MB\n",
      "None\n",
      "\n",
      "Dataset Description:\n",
      "         is_weekend      hour_sin      hour_cos       min_sin       min_cos  \\\n",
      "count  39587.000000  39587.000000  39587.000000  39587.000000  39587.000000   \n",
      "mean       0.395635      0.554939      0.414576      0.487652      0.557387   \n",
      "std        0.488993      0.369911      0.333045      0.361406      0.340509   \n",
      "min        0.000000      0.000000      0.000000      0.000000      0.000000   \n",
      "25%        0.000000      0.148985      0.148985      0.043227      0.296632   \n",
      "50%        0.000000      0.508666      0.254333      0.603956      0.500000   \n",
      "75%        1.000000      0.949184      0.762999      0.793893      0.933013   \n",
      "max        1.000000      1.000000      1.000000      1.000000      1.000000   \n",
      "\n",
      "          time_diff  door_state_encoded  phone_dom_freq  phone_entropy  \\\n",
      "count  39587.000000        39587.000000    39587.000000   39587.000000   \n",
      "mean       0.000033            0.101346        0.345032       0.389064   \n",
      "std        0.005055            0.301791        0.256670       0.308280   \n",
      "min        0.000000            0.000000        0.000000       0.000000   \n",
      "25%        0.000000            0.000000        0.200000       0.000000   \n",
      "50%        0.000000            0.000000        0.200000       0.468996   \n",
      "75%        0.000001            0.000000        0.400000       0.721928   \n",
      "max        1.000000            1.000000        1.000000       1.000000   \n",
      "\n",
      "              label  \n",
      "count  39587.000000  \n",
      "mean       2.671988  \n",
      "std        1.633327  \n",
      "min        0.000000  \n",
      "25%        1.000000  \n",
      "50%        3.000000  \n",
      "75%        3.000000  \n",
      "max        7.000000  \n"
     ]
    }
   ],
   "source": [
    "print(\"\\n\" + \"=\"*50)\n",
    "print(\"DATASET OVERVIEW\")\n",
    "print(\"=\"*50)\n",
    "print(df.head(10))\n",
    "print(f\"\\nDataset Info:\")\n",
    "print(df.info())\n",
    "print(f\"\\nDataset Description:\")\n",
    "print(df.describe())"
   ]
  },
  {
   "cell_type": "code",
   "execution_count": 4,
   "id": "8f67b0c4",
   "metadata": {},
   "outputs": [],
   "source": [
    "X = df.copy()\n",
    "y = df['label'].copy()\n",
    "X.drop('label', axis=1, inplace=True)"
   ]
  },
  {
   "cell_type": "code",
   "execution_count": 10,
   "id": "8a0c75f6",
   "metadata": {},
   "outputs": [
    {
     "name": "stdout",
     "output_type": "stream",
     "text": [
      "<class 'pandas.core.frame.DataFrame'>\n",
      "RangeIndex: 39587 entries, 0 to 39586\n",
      "Data columns (total 9 columns):\n",
      " #   Column              Non-Null Count  Dtype  \n",
      "---  ------              --------------  -----  \n",
      " 0   is_weekend          39587 non-null  float64\n",
      " 1   hour_sin            39587 non-null  float64\n",
      " 2   hour_cos            39587 non-null  float64\n",
      " 3   min_sin             39587 non-null  float64\n",
      " 4   min_cos             39587 non-null  float64\n",
      " 5   time_diff           39587 non-null  float64\n",
      " 6   door_state_encoded  39587 non-null  float64\n",
      " 7   phone_dom_freq      39587 non-null  float64\n",
      " 8   phone_entropy       39587 non-null  float64\n",
      "dtypes: float64(9)\n",
      "memory usage: 2.7 MB\n",
      "None\n",
      "\n",
      " (39587, 9)\n",
      "\n",
      " (39587,)\n",
      "\n",
      " label\n",
      "3    15000\n",
      "2     5000\n",
      "1     5000\n",
      "4     5000\n",
      "0     5000\n",
      "5     2902\n",
      "7     1156\n",
      "6      529\n",
      "Name: count, dtype: int64\n",
      "\n",
      "    is_weekend  hour_sin  hour_cos   min_sin   min_cos  time_diff  \\\n",
      "0         1.0  0.508666       0.0  0.043227  0.296632        0.0   \n",
      "1         1.0  0.508666       0.0  0.043227  0.296632        0.0   \n",
      "2         1.0  0.508666       0.0  0.043227  0.296632        0.0   \n",
      "3         1.0  0.508666       0.0  0.043227  0.296632        0.0   \n",
      "4         1.0  0.508666       0.0  0.043227  0.296632        0.0   \n",
      "\n",
      "   door_state_encoded  phone_dom_freq  phone_entropy  \n",
      "0                 0.0             0.0            0.0  \n",
      "1                 0.0             0.0            0.0  \n",
      "2                 0.0             0.0            0.0  \n",
      "3                 0.0             0.0            0.0  \n",
      "4                 0.0             0.0            0.0  \n",
      "\n",
      " 0    3\n",
      "1    3\n",
      "2    3\n",
      "3    3\n",
      "4    3\n",
      "5    3\n",
      "6    3\n",
      "7    3\n",
      "8    3\n",
      "9    3\n",
      "Name: label, dtype: int64\n"
     ]
    }
   ],
   "source": [
    "print(X.info())\n",
    "print('\\n',X.shape)\n",
    "print('\\n',y.shape)\n",
    "print('\\n',y.value_counts())\n",
    "print('\\n',X.head(5))\n",
    "print('\\n',y[:10])"
   ]
  },
  {
   "cell_type": "code",
   "execution_count": null,
   "id": "65bb3771",
   "metadata": {},
   "outputs": [
    {
     "name": "stdout",
     "output_type": "stream",
     "text": [
      "\n",
      "Dataset shapes:\n",
      "X_train: (31669, 9), y_train: (31669,)\n",
      "X_val:   (28502, 9), y_val:   (28502,)\n",
      "X_test:  (7918, 9), y_test:  (7918,)\n",
      "X_train_ae: (31669, 9), y_train_ae: (31669,)\n",
      "\n",
      "Class distribution in Training Set:\n",
      "Class 0: 4000 (12.63%)\n",
      "Class 1: 4000 (12.63%)\n",
      "Class 2: 4000 (12.63%)\n",
      "Class 3: 12000 (37.89%)\n",
      "Class 4: 4000 (12.63%)\n",
      "Class 5: 2321 (7.33%)\n",
      "Class 6: 423 (1.34%)\n",
      "Class 7: 925 (2.92%)\n",
      "\n",
      "Class distribution in Validation Set:\n",
      "Class 0: 3600 (12.63%)\n",
      "Class 1: 3600 (12.63%)\n",
      "Class 2: 3600 (12.63%)\n",
      "Class 3: 10800 (37.89%)\n",
      "Class 4: 3600 (12.63%)\n",
      "Class 5: 2089 (7.33%)\n",
      "Class 6: 381 (1.34%)\n",
      "Class 7: 832 (2.92%)\n",
      "\n",
      "Class distribution in Test Set:\n",
      "Class 0: 1000 (12.63%)\n",
      "Class 1: 1000 (12.63%)\n",
      "Class 2: 1000 (12.63%)\n",
      "Class 3: 3000 (37.89%)\n",
      "Class 4: 1000 (12.63%)\n",
      "Class 5: 581 (7.34%)\n",
      "Class 6: 106 (1.34%)\n",
      "Class 7: 231 (2.92%)\n"
     ]
    }
   ],
   "source": [
    "# Split data\n",
    "# === 1. Split data menjadi train, val, test ===\n",
    "X_train, X_test, y_train, y_test = train_test_split(\n",
    "    X, y, test_size=0.2, random_state=42, stratify=y\n",
    ")\n",
    "\n",
    "X_val, X_temp, y_val, y_temp = train_test_split(\n",
    "    X_train, y_train, test_size=0.1, random_state=42, stratify=y_train\n",
    ")\n",
    "\n",
    "X_train_ae = X_train.copy()\n",
    "y_train_ae = y_train.copy()\n",
    "\n",
    "# === 4. Print distribusi label ===\n",
    "def print_label_dis(y, label_name):\n",
    "    print(f\"\\nClass distribution in {label_name}:\")\n",
    "    unique, counts = np.unique(y, return_counts=True)\n",
    "    total = len(y)\n",
    "    for cls, count in zip(unique, counts):\n",
    "        print(f\"Class {cls}: {count} ({100*count/total:.2f}%)\")\n",
    "\n",
    "# === 5. Print statistik dataset ===\n",
    "print(f\"\\nDataset shapes:\")\n",
    "print(f\"X_train: {X_train.shape}, y_train: {y_train.shape}\")\n",
    "print(f\"X_val:   {X_val.shape}, y_val:   {y_val.shape}\")\n",
    "print(f\"X_test:  {X_test.shape}, y_test:  {y_test.shape}\")\n",
    "print(f\"X_train_ae: {X_train_ae.shape}, y_train_ae: {y_train_ae.shape}\")\n",
    "\n",
    "print_label_dis(y_train, \"Training Set\")\n",
    "print_label_dis(y_val, \"Validation Set\")\n",
    "print_label_dis(y_test, \"Test Set\")"
   ]
  },
  {
   "cell_type": "code",
   "execution_count": 5,
   "id": "69e3ef71",
   "metadata": {},
   "outputs": [
    {
     "name": "stdout",
     "output_type": "stream",
     "text": [
      "<class 'pandas.core.frame.DataFrame'>\n",
      "Index: 31669 entries, 30534 to 38533\n",
      "Data columns (total 9 columns):\n",
      " #   Column              Non-Null Count  Dtype  \n",
      "---  ------              --------------  -----  \n",
      " 0   is_weekend          31669 non-null  float64\n",
      " 1   hour_sin            31669 non-null  float64\n",
      " 2   hour_cos            31669 non-null  float64\n",
      " 3   min_sin             31669 non-null  float64\n",
      " 4   min_cos             31669 non-null  float64\n",
      " 5   time_diff           31669 non-null  float64\n",
      " 6   door_state_encoded  31669 non-null  float64\n",
      " 7   phone_dom_freq      31669 non-null  float64\n",
      " 8   phone_entropy       31669 non-null  float64\n",
      "dtypes: float64(9)\n",
      "memory usage: 2.4 MB\n",
      "None\n",
      "\n",
      "data train lstm:  (31669, 9)\n",
      "\n",
      "data train ae:  (31669, 9)\n"
     ]
    }
   ],
   "source": [
    "print(X_train.info())\n",
    "print(\"\\ndata train lstm: \", X_train.shape)\n",
    "print(\"\\ndata train ae: \", X_train_ae.shape)"
   ]
  },
  {
   "cell_type": "code",
   "execution_count": 8,
   "id": "5f398d43",
   "metadata": {},
   "outputs": [],
   "source": [
    "def oversample_normal_undersample_attack(X, y, normal_label, target_size):\n",
    "    normal_ratio = 0.9\n",
    "    target_normal_size = int(target_size * normal_ratio)\n",
    "    target_attack_total = target_size - target_normal_size\n",
    "\n",
    "    # Split normal and attack\n",
    "    X_normal = X[y == normal_label]\n",
    "    y_normal = y[y == normal_label]\n",
    "\n",
    "    X_attack = X[y != normal_label]\n",
    "    y_attack = y[y != normal_label]\n",
    "\n",
    "    # Oversample normal class manually\n",
    "    X_normal_os, y_normal_os = resample(\n",
    "        X_normal, y_normal,\n",
    "        replace=True,\n",
    "        n_samples=target_normal_size,\n",
    "        random_state=42\n",
    "    )\n",
    "\n",
    "    # Undersample attack classes equally\n",
    "    unique_attacks = np.unique(y_attack)\n",
    "    samples_per_class = target_attack_total // len(unique_attacks)\n",
    "\n",
    "    X_attack_us, y_attack_us = [], []\n",
    "    total_attack_sampled = 0\n",
    "\n",
    "    for cls in unique_attacks:\n",
    "        X_cls = X[y == cls]\n",
    "        y_cls = y[y == cls]\n",
    "\n",
    "        n_samples_cls = min(samples_per_class, len(X_cls))\n",
    "        total_attack_sampled += n_samples_cls\n",
    "\n",
    "        X_cls_sampled, y_cls_sampled = resample(\n",
    "            X_cls, y_cls,\n",
    "            replace=False,\n",
    "            n_samples=n_samples_cls,\n",
    "            random_state=42\n",
    "        )\n",
    "        X_attack_us.append(X_cls_sampled)\n",
    "        y_attack_us.append(y_cls_sampled)\n",
    "\n",
    "    # Jika undersampling attack total kurang dari target_attack_total, tambahkan sisa sampel secara acak dari seluruh attack data\n",
    "    deficit = target_attack_total - total_attack_sampled\n",
    "    if deficit > 0:\n",
    "        X_attack_pool = np.vstack(X_attack_us) if len(X_attack_us) > 0 else np.empty((0, X.shape[1]))\n",
    "        y_attack_pool = np.hstack(y_attack_us) if len(y_attack_us) > 0 else np.empty((0, ))\n",
    "\n",
    "        # Cari data attack yang belum terambil\n",
    "        mask_selected = np.zeros(len(X_attack), dtype=bool)\n",
    "        for x_sample in X_attack_pool:\n",
    "            idx = np.where((X_attack == x_sample).all(axis=1))[0]\n",
    "            mask_selected[idx] = True\n",
    "        X_attack_remaining = X_attack[~mask_selected]\n",
    "        y_attack_remaining = y_attack[~mask_selected]\n",
    "\n",
    "        if len(X_attack_remaining) >= deficit:\n",
    "            X_extra, y_extra = resample(\n",
    "                X_attack_remaining, y_attack_remaining,\n",
    "                replace=False,\n",
    "                n_samples=deficit,\n",
    "                random_state=42\n",
    "            )\n",
    "        else:\n",
    "            # Jika tidak cukup data tersisa, ambil semua dan oversample sisanya\n",
    "            X_extra, y_extra = resample(\n",
    "                X_attack_remaining, y_attack_remaining,\n",
    "                replace=True,\n",
    "                n_samples=deficit,\n",
    "                random_state=42\n",
    "            )\n",
    "\n",
    "        X_attack_us.append(X_extra)\n",
    "        y_attack_us.append(y_extra)\n",
    "\n",
    "    # Combine all\n",
    "    X_final = np.vstack([X_normal_os] + X_attack_us)\n",
    "    y_final = np.hstack([y_normal_os] + y_attack_us)\n",
    "\n",
    "    # Jika masih belum sesuai karena pembulatan, lakukan trimming atau penambahan duplicate\n",
    "    if len(X_final) > target_size:\n",
    "        X_final = X_final[:target_size]\n",
    "        y_final = y_final[:target_size]\n",
    "    elif len(X_final) < target_size:\n",
    "        needed = target_size - len(X_final)\n",
    "        X_extra, y_extra = resample(\n",
    "            X_final, y_final,\n",
    "            replace=True,\n",
    "            n_samples=needed,\n",
    "            random_state=42\n",
    "        )\n",
    "        X_final = np.vstack([X_final, X_extra])\n",
    "        y_final = np.hstack([y_final, y_extra])\n",
    "\n",
    "    return X_final, y_final"
   ]
  },
  {
   "cell_type": "code",
   "execution_count": 9,
   "id": "d7895728",
   "metadata": {},
   "outputs": [],
   "source": [
    "X_ae_sm, y_ae_sm = oversample_normal_undersample_attack(\n",
    "    X_train_ae, y_train_ae,\n",
    "    normal_label=3,\n",
    "    target_size=X_train.shape[0]\n",
    ")"
   ]
  },
  {
   "cell_type": "code",
   "execution_count": 10,
   "id": "b2b9e853",
   "metadata": {},
   "outputs": [
    {
     "name": "stdout",
     "output_type": "stream",
     "text": [
      "(31669, 9)\n",
      "(31669, 9)\n"
     ]
    }
   ],
   "source": [
    "print(X_ae_sm.shape)\n",
    "print(X_train.shape)"
   ]
  },
  {
   "cell_type": "code",
   "execution_count": 13,
   "id": "b66468f0",
   "metadata": {},
   "outputs": [
    {
     "name": "stdout",
     "output_type": "stream",
     "text": [
      "\n",
      "==================================================\n",
      "PREPARING DATA FOR LSTM\n",
      "==================================================\n",
      "Training sequences shape: (31654, 15, 9)\n",
      "Training label sequences shape: (31654,)\n",
      "\n",
      "Validation sequences shape: (28487, 15, 9)\n",
      "Validation label sequences shape: (28487,)\n",
      "\n",
      "Test sequences shape: (7903, 15, 9)\n",
      "Test label sequences shape: (7903,)\n",
      "\n",
      "Training AE sequences shape: (31654, 15, 9)\n",
      "Training AE label sequences shape: (31654,)\n"
     ]
    }
   ],
   "source": [
    "# ================================\n",
    "# 9. PREPARE DATA FOR LSTM\n",
    "# ================================\n",
    "\n",
    "print(\"\\n\" + \"=\"*50)\n",
    "print(\"PREPARING DATA FOR LSTM\")\n",
    "print(\"=\"*50)\n",
    "\n",
    "def create_sequences(X, y, sequence_length=10):\n",
    "    \"\"\"Create sequences for LSTM input\"\"\"\n",
    "    X_seq, y_seq = [], []\n",
    "    \n",
    "    for i in range(sequence_length, len(X)):\n",
    "        X_seq.append(X[i-sequence_length:i])\n",
    "        y_seq.append(y[i])\n",
    "    \n",
    "    return np.array(X_seq), np.array(y_seq)\n",
    "\n",
    "# Set sequence length\n",
    "SEQUENCE_LENGTH = 15\n",
    "\n",
    "# Create sequences\n",
    "X_train_lstm_seq, y_train_lstm_seq = create_sequences(X_train.values, y_train, SEQUENCE_LENGTH)\n",
    "X_val_seq, y_val_seq = create_sequences(X_val.values, y_val, SEQUENCE_LENGTH)\n",
    "X_test_seq, y_test_seq = create_sequences(X_test.values, y_test, SEQUENCE_LENGTH)\n",
    "\n",
    "X_train_ae_seq, y_train_ae_seq = create_sequences(X_ae_sm, y_ae_sm, SEQUENCE_LENGTH)\n",
    "\n",
    "print(f\"Training sequences shape: {X_train_lstm_seq.shape}\")\n",
    "print(f\"Training label sequences shape: {y_train_lstm_seq.shape}\")\n",
    "print(f\"\\nValidation sequences shape: {X_val_seq.shape}\")\n",
    "print(f\"Validation label sequences shape: {y_val_seq.shape}\")\n",
    "print(f\"\\nTest sequences shape: {X_test_seq.shape}\")\n",
    "print(f\"Test label sequences shape: {y_test_seq.shape}\")\n",
    "\n",
    "print(f\"\\nTraining AE sequences shape: {X_train_ae_seq.shape}\")\n",
    "print(f\"Training AE label sequences shape: {y_train_ae_seq.shape}\")"
   ]
  },
  {
   "cell_type": "code",
   "execution_count": 14,
   "id": "ed1873f2",
   "metadata": {},
   "outputs": [
    {
     "name": "stdout",
     "output_type": "stream",
     "text": [
      "Number of classes: 8\n",
      "Categorical target train shape: (31654, 8)\n",
      "Categorical target val shape: (28487, 8)\n",
      "Categorical target test shape: (7903, 8)\n"
     ]
    }
   ],
   "source": [
    "# Convert to categorical for multi-class classification\n",
    "num_classes = len(np.unique(y_encoded))\n",
    "y_train_cat = to_categorical(y_train_lstm_seq, num_classes)\n",
    "y_val_cat = to_categorical(y_val_seq, num_classes)\n",
    "y_test_cat = to_categorical(y_test_seq, num_classes)\n",
    "\n",
    "print(f\"Number of classes: {num_classes}\")\n",
    "print(f\"Categorical target train shape: {y_train_cat.shape}\")\n",
    "print(f\"Categorical target val shape: {y_val_cat.shape}\")\n",
    "print(f\"Categorical target test shape: {y_test_cat.shape}\")"
   ]
  },
  {
   "cell_type": "code",
   "execution_count": 34,
   "id": "b7fe479e",
   "metadata": {},
   "outputs": [],
   "source": [
    "def compute_alpha_from_labels(y_labels):\n",
    "    \"\"\"\n",
    "    y_labels: array of integer labels, e.g. y_train_seq (not one-hot)\n",
    "    returns: normalized alpha array for focal loss\n",
    "    \"\"\"\n",
    "    label_counter = Counter(y_labels)\n",
    "    total = sum(label_counter.values())\n",
    "\n",
    "    # Urutkan berdasarkan index label (0..N)\n",
    "    num_classes = max(label_counter.keys()) + 1\n",
    "    counts = np.array([label_counter.get(i, 0) for i in range(num_classes)], dtype=np.float32)\n",
    "\n",
    "    # Hitung alpha sebagai kebalikan proporsi, lalu normalisasi\n",
    "    alpha_raw = 1.0 / (counts / total)\n",
    "    alpha_normalized = alpha_raw / np.sum(alpha_raw)\n",
    "\n",
    "    return alpha_normalized.astype(np.float32)"
   ]
  },
  {
   "cell_type": "code",
   "execution_count": 35,
   "id": "afab2d40",
   "metadata": {},
   "outputs": [],
   "source": [
    "def focal_loss_with_alpha(gamma=2.0, alpha=None):\n",
    "    def loss(y_true, y_pred):\n",
    "        # Konversi y_true ke one-hot\n",
    "        y_true = tf.one_hot(tf.cast(y_true, tf.int32), depth=y_pred.shape[-1])\n",
    "\n",
    "        # Hindari log(0)\n",
    "        y_pred = tf.clip_by_value(y_pred, 1e-7, 1 - 1e-7)\n",
    "\n",
    "        # Cross-entropy\n",
    "        cross_entropy = -y_true * tf.math.log(y_pred)\n",
    "\n",
    "        # Alpha weighting\n",
    "        if alpha is not None:\n",
    "            alpha_tensor = tf.convert_to_tensor(alpha, dtype=tf.float32)\n",
    "            alpha_factor = tf.reduce_sum(alpha_tensor * y_true, axis=-1)\n",
    "        else:\n",
    "            alpha_factor = 1.0\n",
    "\n",
    "        # Focal weighting\n",
    "        focal_weight = tf.reduce_sum(tf.pow(1.0 - y_pred, gamma) * y_true, axis=-1)\n",
    "\n",
    "        loss_val = alpha_factor * focal_weight * tf.reduce_sum(cross_entropy, axis=-1)\n",
    "        return tf.reduce_mean(loss_val)\n",
    "    return loss"
   ]
  },
  {
   "cell_type": "code",
   "execution_count": 38,
   "id": "e1d91b3d",
   "metadata": {},
   "outputs": [
    {
     "name": "stdout",
     "output_type": "stream",
     "text": [
      "Alpha untuk masing-masing kelas: [0.05041842 0.05041842 0.05040581 0.01680754 0.05041842 0.0868474\n",
      " 0.47653154 0.21815242]\n"
     ]
    }
   ],
   "source": [
    "alpha = compute_alpha_from_labels(y_train_lstm_seq)\n",
    "print(\"Alpha untuk masing-masing kelas:\", alpha)"
   ]
  },
  {
   "cell_type": "code",
   "execution_count": 39,
   "id": "1ce0651a",
   "metadata": {},
   "outputs": [],
   "source": [
    "loss_fn = focal_loss_with_alpha(gamma=2.0, alpha=alpha)"
   ]
  },
  {
   "cell_type": "code",
   "execution_count": 17,
   "id": "d7ad994c",
   "metadata": {},
   "outputs": [
    {
     "name": "stdout",
     "output_type": "stream",
     "text": [
      "9\n",
      "15\n",
      "31654\n"
     ]
    }
   ],
   "source": [
    "print(X_train_lstm_seq.shape[2])\n",
    "print(X_train_lstm_seq.shape[1])\n",
    "print(X_train_lstm_seq.shape[0])"
   ]
  },
  {
   "cell_type": "code",
   "execution_count": 56,
   "id": "55ba83c3",
   "metadata": {},
   "outputs": [
    {
     "data": {
      "text/html": [
       "<pre style=\"white-space:pre;overflow-x:auto;line-height:normal;font-family:Menlo,'DejaVu Sans Mono',consolas,'Courier New',monospace\"><span style=\"font-weight: bold\">Model: \"Classifier\"</span>\n",
       "</pre>\n"
      ],
      "text/plain": [
       "\u001b[1mModel: \"Classifier\"\u001b[0m\n"
      ]
     },
     "metadata": {},
     "output_type": "display_data"
    },
    {
     "data": {
      "text/html": [
       "<pre style=\"white-space:pre;overflow-x:auto;line-height:normal;font-family:Menlo,'DejaVu Sans Mono',consolas,'Courier New',monospace\">┏━━━━━━━━━━━━━━━━━━━━━━━━━━━━━━━━━┳━━━━━━━━━━━━━━━━━━━━━━━━┳━━━━━━━━━━━━━━━┓\n",
       "┃<span style=\"font-weight: bold\"> Layer (type)                    </span>┃<span style=\"font-weight: bold\"> Output Shape           </span>┃<span style=\"font-weight: bold\">       Param # </span>┃\n",
       "┡━━━━━━━━━━━━━━━━━━━━━━━━━━━━━━━━━╇━━━━━━━━━━━━━━━━━━━━━━━━╇━━━━━━━━━━━━━━━┩\n",
       "│ input_layer_7 (<span style=\"color: #0087ff; text-decoration-color: #0087ff\">InputLayer</span>)      │ (<span style=\"color: #00d7ff; text-decoration-color: #00d7ff\">None</span>, <span style=\"color: #00af00; text-decoration-color: #00af00\">15</span>, <span style=\"color: #00af00; text-decoration-color: #00af00\">9</span>)          │             <span style=\"color: #00af00; text-decoration-color: #00af00\">0</span> │\n",
       "├─────────────────────────────────┼────────────────────────┼───────────────┤\n",
       "│ bidirectional_8 (<span style=\"color: #0087ff; text-decoration-color: #0087ff\">Bidirectional</span>) │ (<span style=\"color: #00d7ff; text-decoration-color: #00d7ff\">None</span>, <span style=\"color: #00af00; text-decoration-color: #00af00\">128</span>)            │        <span style=\"color: #00af00; text-decoration-color: #00af00\">37,888</span> │\n",
       "├─────────────────────────────────┼────────────────────────┼───────────────┤\n",
       "│ dense_15 (<span style=\"color: #0087ff; text-decoration-color: #0087ff\">Dense</span>)                │ (<span style=\"color: #00d7ff; text-decoration-color: #00d7ff\">None</span>, <span style=\"color: #00af00; text-decoration-color: #00af00\">64</span>)             │         <span style=\"color: #00af00; text-decoration-color: #00af00\">8,256</span> │\n",
       "├─────────────────────────────────┼────────────────────────┼───────────────┤\n",
       "│ dropout_9 (<span style=\"color: #0087ff; text-decoration-color: #0087ff\">Dropout</span>)             │ (<span style=\"color: #00d7ff; text-decoration-color: #00d7ff\">None</span>, <span style=\"color: #00af00; text-decoration-color: #00af00\">64</span>)             │             <span style=\"color: #00af00; text-decoration-color: #00af00\">0</span> │\n",
       "├─────────────────────────────────┼────────────────────────┼───────────────┤\n",
       "│ dense_16 (<span style=\"color: #0087ff; text-decoration-color: #0087ff\">Dense</span>)                │ (<span style=\"color: #00d7ff; text-decoration-color: #00d7ff\">None</span>, <span style=\"color: #00af00; text-decoration-color: #00af00\">8</span>)              │           <span style=\"color: #00af00; text-decoration-color: #00af00\">520</span> │\n",
       "└─────────────────────────────────┴────────────────────────┴───────────────┘\n",
       "</pre>\n"
      ],
      "text/plain": [
       "┏━━━━━━━━━━━━━━━━━━━━━━━━━━━━━━━━━┳━━━━━━━━━━━━━━━━━━━━━━━━┳━━━━━━━━━━━━━━━┓\n",
       "┃\u001b[1m \u001b[0m\u001b[1mLayer (type)                   \u001b[0m\u001b[1m \u001b[0m┃\u001b[1m \u001b[0m\u001b[1mOutput Shape          \u001b[0m\u001b[1m \u001b[0m┃\u001b[1m \u001b[0m\u001b[1m      Param #\u001b[0m\u001b[1m \u001b[0m┃\n",
       "┡━━━━━━━━━━━━━━━━━━━━━━━━━━━━━━━━━╇━━━━━━━━━━━━━━━━━━━━━━━━╇━━━━━━━━━━━━━━━┩\n",
       "│ input_layer_7 (\u001b[38;5;33mInputLayer\u001b[0m)      │ (\u001b[38;5;45mNone\u001b[0m, \u001b[38;5;34m15\u001b[0m, \u001b[38;5;34m9\u001b[0m)          │             \u001b[38;5;34m0\u001b[0m │\n",
       "├─────────────────────────────────┼────────────────────────┼───────────────┤\n",
       "│ bidirectional_8 (\u001b[38;5;33mBidirectional\u001b[0m) │ (\u001b[38;5;45mNone\u001b[0m, \u001b[38;5;34m128\u001b[0m)            │        \u001b[38;5;34m37,888\u001b[0m │\n",
       "├─────────────────────────────────┼────────────────────────┼───────────────┤\n",
       "│ dense_15 (\u001b[38;5;33mDense\u001b[0m)                │ (\u001b[38;5;45mNone\u001b[0m, \u001b[38;5;34m64\u001b[0m)             │         \u001b[38;5;34m8,256\u001b[0m │\n",
       "├─────────────────────────────────┼────────────────────────┼───────────────┤\n",
       "│ dropout_9 (\u001b[38;5;33mDropout\u001b[0m)             │ (\u001b[38;5;45mNone\u001b[0m, \u001b[38;5;34m64\u001b[0m)             │             \u001b[38;5;34m0\u001b[0m │\n",
       "├─────────────────────────────────┼────────────────────────┼───────────────┤\n",
       "│ dense_16 (\u001b[38;5;33mDense\u001b[0m)                │ (\u001b[38;5;45mNone\u001b[0m, \u001b[38;5;34m8\u001b[0m)              │           \u001b[38;5;34m520\u001b[0m │\n",
       "└─────────────────────────────────┴────────────────────────┴───────────────┘\n"
      ]
     },
     "metadata": {},
     "output_type": "display_data"
    },
    {
     "data": {
      "text/html": [
       "<pre style=\"white-space:pre;overflow-x:auto;line-height:normal;font-family:Menlo,'DejaVu Sans Mono',consolas,'Courier New',monospace\"><span style=\"font-weight: bold\"> Total params: </span><span style=\"color: #00af00; text-decoration-color: #00af00\">46,664</span> (182.28 KB)\n",
       "</pre>\n"
      ],
      "text/plain": [
       "\u001b[1m Total params: \u001b[0m\u001b[38;5;34m46,664\u001b[0m (182.28 KB)\n"
      ]
     },
     "metadata": {},
     "output_type": "display_data"
    },
    {
     "data": {
      "text/html": [
       "<pre style=\"white-space:pre;overflow-x:auto;line-height:normal;font-family:Menlo,'DejaVu Sans Mono',consolas,'Courier New',monospace\"><span style=\"font-weight: bold\"> Trainable params: </span><span style=\"color: #00af00; text-decoration-color: #00af00\">46,664</span> (182.28 KB)\n",
       "</pre>\n"
      ],
      "text/plain": [
       "\u001b[1m Trainable params: \u001b[0m\u001b[38;5;34m46,664\u001b[0m (182.28 KB)\n"
      ]
     },
     "metadata": {},
     "output_type": "display_data"
    },
    {
     "data": {
      "text/html": [
       "<pre style=\"white-space:pre;overflow-x:auto;line-height:normal;font-family:Menlo,'DejaVu Sans Mono',consolas,'Courier New',monospace\"><span style=\"font-weight: bold\"> Non-trainable params: </span><span style=\"color: #00af00; text-decoration-color: #00af00\">0</span> (0.00 B)\n",
       "</pre>\n"
      ],
      "text/plain": [
       "\u001b[1m Non-trainable params: \u001b[0m\u001b[38;5;34m0\u001b[0m (0.00 B)\n"
      ]
     },
     "metadata": {},
     "output_type": "display_data"
    }
   ],
   "source": [
    "sequence_length = X_train_lstm_seq.shape[1]\n",
    "n_features = X_train_lstm_seq.shape[2]\n",
    "n_classes = num_classes\n",
    "\n",
    "inputs = Input(shape=(sequence_length, n_features))\n",
    "\n",
    "x = Bidirectional(LSTM(64, return_sequences=False))(inputs)\n",
    "x = Dense(64, activation='relu')(x)\n",
    "x = Dropout(0.3)(x)\n",
    "output = Dense(n_classes, activation='softmax')(x)\n",
    "\n",
    "# Model instantiation\n",
    "classifier = Model(inputs=inputs, outputs=output, name='Classifier')\n",
    "classifier.compile(\n",
    "    loss='categorical_crossentropy',\n",
    "    optimizer= Adam(learning_rate=1e-3),\n",
    "    metrics=['accuracy']\n",
    ")\n",
    "classifier.summary()"
   ]
  },
  {
   "cell_type": "code",
   "execution_count": null,
   "id": "289869b0",
   "metadata": {},
   "outputs": [
    {
     "data": {
      "text/html": [
       "<pre style=\"white-space:pre;overflow-x:auto;line-height:normal;font-family:Menlo,'DejaVu Sans Mono',consolas,'Courier New',monospace\"><span style=\"font-weight: bold\">Model: \"Classifier\"</span>\n",
       "</pre>\n"
      ],
      "text/plain": [
       "\u001b[1mModel: \"Classifier\"\u001b[0m\n"
      ]
     },
     "metadata": {},
     "output_type": "display_data"
    },
    {
     "data": {
      "text/html": [
       "<pre style=\"white-space:pre;overflow-x:auto;line-height:normal;font-family:Menlo,'DejaVu Sans Mono',consolas,'Courier New',monospace\">┏━━━━━━━━━━━━━━━━━━━━━┳━━━━━━━━━━━━━━━━━━━┳━━━━━━━━━━━━┳━━━━━━━━━━━━━━━━━━━┓\n",
       "┃<span style=\"font-weight: bold\"> Layer (type)        </span>┃<span style=\"font-weight: bold\"> Output Shape      </span>┃<span style=\"font-weight: bold\">    Param # </span>┃<span style=\"font-weight: bold\"> Connected to      </span>┃\n",
       "┡━━━━━━━━━━━━━━━━━━━━━╇━━━━━━━━━━━━━━━━━━━╇━━━━━━━━━━━━╇━━━━━━━━━━━━━━━━━━━┩\n",
       "│ input_layer         │ (<span style=\"color: #00d7ff; text-decoration-color: #00d7ff\">None</span>, <span style=\"color: #00af00; text-decoration-color: #00af00\">15</span>, <span style=\"color: #00af00; text-decoration-color: #00af00\">9</span>)     │          <span style=\"color: #00af00; text-decoration-color: #00af00\">0</span> │ -                 │\n",
       "│ (<span style=\"color: #0087ff; text-decoration-color: #0087ff\">InputLayer</span>)        │                   │            │                   │\n",
       "├─────────────────────┼───────────────────┼────────────┼───────────────────┤\n",
       "│ bidirectional       │ (<span style=\"color: #00d7ff; text-decoration-color: #00d7ff\">None</span>, <span style=\"color: #00af00; text-decoration-color: #00af00\">15</span>, <span style=\"color: #00af00; text-decoration-color: #00af00\">256</span>)   │    <span style=\"color: #00af00; text-decoration-color: #00af00\">141,312</span> │ input_layer[<span style=\"color: #00af00; text-decoration-color: #00af00\">0</span>][<span style=\"color: #00af00; text-decoration-color: #00af00\">0</span>] │\n",
       "│ (<span style=\"color: #0087ff; text-decoration-color: #0087ff\">Bidirectional</span>)     │                   │            │                   │\n",
       "├─────────────────────┼───────────────────┼────────────┼───────────────────┤\n",
       "│ bidirectional_1     │ (<span style=\"color: #00d7ff; text-decoration-color: #00d7ff\">None</span>, <span style=\"color: #00af00; text-decoration-color: #00af00\">15</span>, <span style=\"color: #00af00; text-decoration-color: #00af00\">128</span>)   │    <span style=\"color: #00af00; text-decoration-color: #00af00\">164,352</span> │ bidirectional[<span style=\"color: #00af00; text-decoration-color: #00af00\">0</span>]… │\n",
       "│ (<span style=\"color: #0087ff; text-decoration-color: #0087ff\">Bidirectional</span>)     │                   │            │                   │\n",
       "├─────────────────────┼───────────────────┼────────────┼───────────────────┤\n",
       "│ multi_head_attenti… │ (<span style=\"color: #00d7ff; text-decoration-color: #00d7ff\">None</span>, <span style=\"color: #00af00; text-decoration-color: #00af00\">15</span>, <span style=\"color: #00af00; text-decoration-color: #00af00\">128</span>)   │    <span style=\"color: #00af00; text-decoration-color: #00af00\">263,808</span> │ bidirectional_1[<span style=\"color: #00af00; text-decoration-color: #00af00\">…</span> │\n",
       "│ (<span style=\"color: #0087ff; text-decoration-color: #0087ff\">MultiHeadAttentio…</span> │                   │            │ bidirectional_1[<span style=\"color: #00af00; text-decoration-color: #00af00\">…</span> │\n",
       "├─────────────────────┼───────────────────┼────────────┼───────────────────┤\n",
       "│ add (<span style=\"color: #0087ff; text-decoration-color: #0087ff\">Add</span>)           │ (<span style=\"color: #00d7ff; text-decoration-color: #00d7ff\">None</span>, <span style=\"color: #00af00; text-decoration-color: #00af00\">15</span>, <span style=\"color: #00af00; text-decoration-color: #00af00\">128</span>)   │          <span style=\"color: #00af00; text-decoration-color: #00af00\">0</span> │ bidirectional_1[<span style=\"color: #00af00; text-decoration-color: #00af00\">…</span> │\n",
       "│                     │                   │            │ multi_head_atten… │\n",
       "├─────────────────────┼───────────────────┼────────────┼───────────────────┤\n",
       "│ layer_normalization │ (<span style=\"color: #00d7ff; text-decoration-color: #00d7ff\">None</span>, <span style=\"color: #00af00; text-decoration-color: #00af00\">15</span>, <span style=\"color: #00af00; text-decoration-color: #00af00\">128</span>)   │        <span style=\"color: #00af00; text-decoration-color: #00af00\">256</span> │ add[<span style=\"color: #00af00; text-decoration-color: #00af00\">0</span>][<span style=\"color: #00af00; text-decoration-color: #00af00\">0</span>]         │\n",
       "│ (<span style=\"color: #0087ff; text-decoration-color: #0087ff\">LayerNormalizatio…</span> │                   │            │                   │\n",
       "├─────────────────────┼───────────────────┼────────────┼───────────────────┤\n",
       "│ global_max_pooling… │ (<span style=\"color: #00d7ff; text-decoration-color: #00d7ff\">None</span>, <span style=\"color: #00af00; text-decoration-color: #00af00\">128</span>)       │          <span style=\"color: #00af00; text-decoration-color: #00af00\">0</span> │ layer_normalizat… │\n",
       "│ (<span style=\"color: #0087ff; text-decoration-color: #0087ff\">GlobalMaxPooling1…</span> │                   │            │                   │\n",
       "├─────────────────────┼───────────────────┼────────────┼───────────────────┤\n",
       "│ dense (<span style=\"color: #0087ff; text-decoration-color: #0087ff\">Dense</span>)       │ (<span style=\"color: #00d7ff; text-decoration-color: #00d7ff\">None</span>, <span style=\"color: #00af00; text-decoration-color: #00af00\">128</span>)       │     <span style=\"color: #00af00; text-decoration-color: #00af00\">16,512</span> │ global_max_pooli… │\n",
       "├─────────────────────┼───────────────────┼────────────┼───────────────────┤\n",
       "│ batch_normalization │ (<span style=\"color: #00d7ff; text-decoration-color: #00d7ff\">None</span>, <span style=\"color: #00af00; text-decoration-color: #00af00\">128</span>)       │        <span style=\"color: #00af00; text-decoration-color: #00af00\">512</span> │ dense[<span style=\"color: #00af00; text-decoration-color: #00af00\">0</span>][<span style=\"color: #00af00; text-decoration-color: #00af00\">0</span>]       │\n",
       "│ (<span style=\"color: #0087ff; text-decoration-color: #0087ff\">BatchNormalizatio…</span> │                   │            │                   │\n",
       "├─────────────────────┼───────────────────┼────────────┼───────────────────┤\n",
       "│ dropout_1 (<span style=\"color: #0087ff; text-decoration-color: #0087ff\">Dropout</span>) │ (<span style=\"color: #00d7ff; text-decoration-color: #00d7ff\">None</span>, <span style=\"color: #00af00; text-decoration-color: #00af00\">128</span>)       │          <span style=\"color: #00af00; text-decoration-color: #00af00\">0</span> │ batch_normalizat… │\n",
       "├─────────────────────┼───────────────────┼────────────┼───────────────────┤\n",
       "│ dense_1 (<span style=\"color: #0087ff; text-decoration-color: #0087ff\">Dense</span>)     │ (<span style=\"color: #00d7ff; text-decoration-color: #00d7ff\">None</span>, <span style=\"color: #00af00; text-decoration-color: #00af00\">64</span>)        │      <span style=\"color: #00af00; text-decoration-color: #00af00\">8,256</span> │ dropout_1[<span style=\"color: #00af00; text-decoration-color: #00af00\">0</span>][<span style=\"color: #00af00; text-decoration-color: #00af00\">0</span>]   │\n",
       "├─────────────────────┼───────────────────┼────────────┼───────────────────┤\n",
       "│ dropout_2 (<span style=\"color: #0087ff; text-decoration-color: #0087ff\">Dropout</span>) │ (<span style=\"color: #00d7ff; text-decoration-color: #00d7ff\">None</span>, <span style=\"color: #00af00; text-decoration-color: #00af00\">64</span>)        │          <span style=\"color: #00af00; text-decoration-color: #00af00\">0</span> │ dense_1[<span style=\"color: #00af00; text-decoration-color: #00af00\">0</span>][<span style=\"color: #00af00; text-decoration-color: #00af00\">0</span>]     │\n",
       "├─────────────────────┼───────────────────┼────────────┼───────────────────┤\n",
       "│ dense_2 (<span style=\"color: #0087ff; text-decoration-color: #0087ff\">Dense</span>)     │ (<span style=\"color: #00d7ff; text-decoration-color: #00d7ff\">None</span>, <span style=\"color: #00af00; text-decoration-color: #00af00\">8</span>)         │        <span style=\"color: #00af00; text-decoration-color: #00af00\">520</span> │ dropout_2[<span style=\"color: #00af00; text-decoration-color: #00af00\">0</span>][<span style=\"color: #00af00; text-decoration-color: #00af00\">0</span>]   │\n",
       "└─────────────────────┴───────────────────┴────────────┴───────────────────┘\n",
       "</pre>\n"
      ],
      "text/plain": [
       "┏━━━━━━━━━━━━━━━━━━━━━┳━━━━━━━━━━━━━━━━━━━┳━━━━━━━━━━━━┳━━━━━━━━━━━━━━━━━━━┓\n",
       "┃\u001b[1m \u001b[0m\u001b[1mLayer (type)       \u001b[0m\u001b[1m \u001b[0m┃\u001b[1m \u001b[0m\u001b[1mOutput Shape     \u001b[0m\u001b[1m \u001b[0m┃\u001b[1m \u001b[0m\u001b[1m   Param #\u001b[0m\u001b[1m \u001b[0m┃\u001b[1m \u001b[0m\u001b[1mConnected to     \u001b[0m\u001b[1m \u001b[0m┃\n",
       "┡━━━━━━━━━━━━━━━━━━━━━╇━━━━━━━━━━━━━━━━━━━╇━━━━━━━━━━━━╇━━━━━━━━━━━━━━━━━━━┩\n",
       "│ input_layer         │ (\u001b[38;5;45mNone\u001b[0m, \u001b[38;5;34m15\u001b[0m, \u001b[38;5;34m9\u001b[0m)     │          \u001b[38;5;34m0\u001b[0m │ -                 │\n",
       "│ (\u001b[38;5;33mInputLayer\u001b[0m)        │                   │            │                   │\n",
       "├─────────────────────┼───────────────────┼────────────┼───────────────────┤\n",
       "│ bidirectional       │ (\u001b[38;5;45mNone\u001b[0m, \u001b[38;5;34m15\u001b[0m, \u001b[38;5;34m256\u001b[0m)   │    \u001b[38;5;34m141,312\u001b[0m │ input_layer[\u001b[38;5;34m0\u001b[0m][\u001b[38;5;34m0\u001b[0m] │\n",
       "│ (\u001b[38;5;33mBidirectional\u001b[0m)     │                   │            │                   │\n",
       "├─────────────────────┼───────────────────┼────────────┼───────────────────┤\n",
       "│ bidirectional_1     │ (\u001b[38;5;45mNone\u001b[0m, \u001b[38;5;34m15\u001b[0m, \u001b[38;5;34m128\u001b[0m)   │    \u001b[38;5;34m164,352\u001b[0m │ bidirectional[\u001b[38;5;34m0\u001b[0m]… │\n",
       "│ (\u001b[38;5;33mBidirectional\u001b[0m)     │                   │            │                   │\n",
       "├─────────────────────┼───────────────────┼────────────┼───────────────────┤\n",
       "│ multi_head_attenti… │ (\u001b[38;5;45mNone\u001b[0m, \u001b[38;5;34m15\u001b[0m, \u001b[38;5;34m128\u001b[0m)   │    \u001b[38;5;34m263,808\u001b[0m │ bidirectional_1[\u001b[38;5;34m…\u001b[0m │\n",
       "│ (\u001b[38;5;33mMultiHeadAttentio…\u001b[0m │                   │            │ bidirectional_1[\u001b[38;5;34m…\u001b[0m │\n",
       "├─────────────────────┼───────────────────┼────────────┼───────────────────┤\n",
       "│ add (\u001b[38;5;33mAdd\u001b[0m)           │ (\u001b[38;5;45mNone\u001b[0m, \u001b[38;5;34m15\u001b[0m, \u001b[38;5;34m128\u001b[0m)   │          \u001b[38;5;34m0\u001b[0m │ bidirectional_1[\u001b[38;5;34m…\u001b[0m │\n",
       "│                     │                   │            │ multi_head_atten… │\n",
       "├─────────────────────┼───────────────────┼────────────┼───────────────────┤\n",
       "│ layer_normalization │ (\u001b[38;5;45mNone\u001b[0m, \u001b[38;5;34m15\u001b[0m, \u001b[38;5;34m128\u001b[0m)   │        \u001b[38;5;34m256\u001b[0m │ add[\u001b[38;5;34m0\u001b[0m][\u001b[38;5;34m0\u001b[0m]         │\n",
       "│ (\u001b[38;5;33mLayerNormalizatio…\u001b[0m │                   │            │                   │\n",
       "├─────────────────────┼───────────────────┼────────────┼───────────────────┤\n",
       "│ global_max_pooling… │ (\u001b[38;5;45mNone\u001b[0m, \u001b[38;5;34m128\u001b[0m)       │          \u001b[38;5;34m0\u001b[0m │ layer_normalizat… │\n",
       "│ (\u001b[38;5;33mGlobalMaxPooling1…\u001b[0m │                   │            │                   │\n",
       "├─────────────────────┼───────────────────┼────────────┼───────────────────┤\n",
       "│ dense (\u001b[38;5;33mDense\u001b[0m)       │ (\u001b[38;5;45mNone\u001b[0m, \u001b[38;5;34m128\u001b[0m)       │     \u001b[38;5;34m16,512\u001b[0m │ global_max_pooli… │\n",
       "├─────────────────────┼───────────────────┼────────────┼───────────────────┤\n",
       "│ batch_normalization │ (\u001b[38;5;45mNone\u001b[0m, \u001b[38;5;34m128\u001b[0m)       │        \u001b[38;5;34m512\u001b[0m │ dense[\u001b[38;5;34m0\u001b[0m][\u001b[38;5;34m0\u001b[0m]       │\n",
       "│ (\u001b[38;5;33mBatchNormalizatio…\u001b[0m │                   │            │                   │\n",
       "├─────────────────────┼───────────────────┼────────────┼───────────────────┤\n",
       "│ dropout_1 (\u001b[38;5;33mDropout\u001b[0m) │ (\u001b[38;5;45mNone\u001b[0m, \u001b[38;5;34m128\u001b[0m)       │          \u001b[38;5;34m0\u001b[0m │ batch_normalizat… │\n",
       "├─────────────────────┼───────────────────┼────────────┼───────────────────┤\n",
       "│ dense_1 (\u001b[38;5;33mDense\u001b[0m)     │ (\u001b[38;5;45mNone\u001b[0m, \u001b[38;5;34m64\u001b[0m)        │      \u001b[38;5;34m8,256\u001b[0m │ dropout_1[\u001b[38;5;34m0\u001b[0m][\u001b[38;5;34m0\u001b[0m]   │\n",
       "├─────────────────────┼───────────────────┼────────────┼───────────────────┤\n",
       "│ dropout_2 (\u001b[38;5;33mDropout\u001b[0m) │ (\u001b[38;5;45mNone\u001b[0m, \u001b[38;5;34m64\u001b[0m)        │          \u001b[38;5;34m0\u001b[0m │ dense_1[\u001b[38;5;34m0\u001b[0m][\u001b[38;5;34m0\u001b[0m]     │\n",
       "├─────────────────────┼───────────────────┼────────────┼───────────────────┤\n",
       "│ dense_2 (\u001b[38;5;33mDense\u001b[0m)     │ (\u001b[38;5;45mNone\u001b[0m, \u001b[38;5;34m8\u001b[0m)         │        \u001b[38;5;34m520\u001b[0m │ dropout_2[\u001b[38;5;34m0\u001b[0m][\u001b[38;5;34m0\u001b[0m]   │\n",
       "└─────────────────────┴───────────────────┴────────────┴───────────────────┘\n"
      ]
     },
     "metadata": {},
     "output_type": "display_data"
    },
    {
     "data": {
      "text/html": [
       "<pre style=\"white-space:pre;overflow-x:auto;line-height:normal;font-family:Menlo,'DejaVu Sans Mono',consolas,'Courier New',monospace\"><span style=\"font-weight: bold\"> Total params: </span><span style=\"color: #00af00; text-decoration-color: #00af00\">595,528</span> (2.27 MB)\n",
       "</pre>\n"
      ],
      "text/plain": [
       "\u001b[1m Total params: \u001b[0m\u001b[38;5;34m595,528\u001b[0m (2.27 MB)\n"
      ]
     },
     "metadata": {},
     "output_type": "display_data"
    },
    {
     "data": {
      "text/html": [
       "<pre style=\"white-space:pre;overflow-x:auto;line-height:normal;font-family:Menlo,'DejaVu Sans Mono',consolas,'Courier New',monospace\"><span style=\"font-weight: bold\"> Trainable params: </span><span style=\"color: #00af00; text-decoration-color: #00af00\">595,272</span> (2.27 MB)\n",
       "</pre>\n"
      ],
      "text/plain": [
       "\u001b[1m Trainable params: \u001b[0m\u001b[38;5;34m595,272\u001b[0m (2.27 MB)\n"
      ]
     },
     "metadata": {},
     "output_type": "display_data"
    },
    {
     "data": {
      "text/html": [
       "<pre style=\"white-space:pre;overflow-x:auto;line-height:normal;font-family:Menlo,'DejaVu Sans Mono',consolas,'Courier New',monospace\"><span style=\"font-weight: bold\"> Non-trainable params: </span><span style=\"color: #00af00; text-decoration-color: #00af00\">256</span> (1.00 KB)\n",
       "</pre>\n"
      ],
      "text/plain": [
       "\u001b[1m Non-trainable params: \u001b[0m\u001b[38;5;34m256\u001b[0m (1.00 KB)\n"
      ]
     },
     "metadata": {},
     "output_type": "display_data"
    }
   ],
   "source": [
    "# Parameter (ganti dengan nilai sesuai kebutuhanmu)\n",
    "sequence_length = X_train_lstm_seq.shape[1]\n",
    "n_features = X_train_lstm_seq.shape[2]\n",
    "n_classes = num_classes\n",
    "lstm_units = 128\n",
    "attention_units = 64\n",
    "\n",
    "# Input layer\n",
    "inputs = Input(shape=(sequence_length, n_features))\n",
    "\n",
    "# Bidirectional LSTM stack\n",
    "lstm_out = Bidirectional(\n",
    "    LSTM(lstm_units, return_sequences=True, dropout=0.2, recurrent_dropout=0.2)\n",
    ")(inputs)\n",
    "\n",
    "lstm_out = Bidirectional(\n",
    "    LSTM(lstm_units // 2, return_sequences=True, dropout=0.2, recurrent_dropout=0.2)\n",
    ")(lstm_out)\n",
    "\n",
    "# Self-attention mechanism (Multi-head)\n",
    "attention = MultiHeadAttention(\n",
    "    num_heads=8,\n",
    "    key_dim=attention_units,\n",
    "    dropout=0.1\n",
    ")(lstm_out, lstm_out)\n",
    "\n",
    "# Add & Normalize (residual connection)\n",
    "attention = Add()([lstm_out, attention])\n",
    "attention = LayerNormalization()(attention)\n",
    "\n",
    "# Pooling untuk mengubah 3D ke 2D\n",
    "pooled = GlobalMaxPooling1D()(attention)\n",
    "\n",
    "# Fully Connected Layers\n",
    "dense = Dense(128, activation='relu')(pooled)\n",
    "dense = BatchNormalization()(dense)\n",
    "dense = Dropout(0.3)(dense)\n",
    "\n",
    "dense = Dense(64, activation='relu')(dense)\n",
    "dense = Dropout(0.2)(dense)\n",
    "\n",
    "# Output layer\n",
    "outputs = Dense(n_classes, activation='softmax')(dense)\n",
    "\n",
    "# Model instantiation\n",
    "classifier = Model(inputs=inputs, outputs=outputs, name='Classifier')\n",
    "classifier.compile(\n",
    "    loss='categorical_crossentropy',\n",
    "    optimizer='adam',\n",
    "    metrics=['accuracy', Precision(), Recall(), AUC()]\n",
    ")\n",
    "classifier.summary()"
   ]
  },
  {
   "cell_type": "code",
   "execution_count": 57,
   "id": "c58bb367",
   "metadata": {},
   "outputs": [
    {
     "name": "stdout",
     "output_type": "stream",
     "text": [
      "Final class weights: {0: 0.6850953739033226, 1: 0.6850953739033226, 2: 0.6849715039250392, 3: 0.2839265954887917, 4: 0.6850953739033226, 5: 0.9908487275693599, 6: 2.327591305718722, 7: 1.6573757455881182}\n",
      "Sample weights shape: (31654,)\n"
     ]
    }
   ],
   "source": [
    "# Callback\n",
    "early_stop = EarlyStopping(\n",
    "    monitor='val_loss',        # berhenti jika val_loss tidak membaik\n",
    "    patience=10,               # toleransi 10 epoch\n",
    "    restore_best_weights=True # ambil bobot terbaik\n",
    ")\n",
    "\n",
    "checkpoint = ModelCheckpoint(\n",
    "    filepath=os.path.join(checkpoint_dir, 'best_model.keras'),\n",
    "    monitor='val_loss',\n",
    "    save_best_only=True,\n",
    "    save_weights_only=False,\n",
    "    verbose=1\n",
    ")\n",
    "\n",
    "reduce_lr = ReduceLROnPlateau(\n",
    "    monitor='val_loss',\n",
    "    factor=0.5,\n",
    "    patience=5,\n",
    "    min_lr=1e-6,\n",
    "    verbose=1\n",
    ")\n",
    "\n",
    "callbacks = [early_stop, checkpoint, reduce_lr]\n",
    "\n",
    "# class_weight\n",
    "# Calculate class weights for imbalanced data\n",
    "raw_weights = compute_class_weight('balanced', classes=np.unique(y_train_lstm_seq), y=y_train_lstm_seq)\n",
    "# Gunakan log transform agar tidak ekstrem\n",
    "scaled_weights = np.log1p(raw_weights)\n",
    "# Normalisasi supaya rata-rata = 1\n",
    "normalized_weights = scaled_weights / np.mean(scaled_weights)\n",
    "# Konversi ke dict\n",
    "class_weight_dict = dict(enumerate(normalized_weights))\n",
    "print(\"Final class weights:\", class_weight_dict)\n",
    "cls_sample_weights = np.array([class_weight_dict[label] for label in y_train_lstm_seq])\n",
    "print(\"Sample weights shape:\", cls_sample_weights.shape)"
   ]
  },
  {
   "cell_type": "code",
   "execution_count": 58,
   "id": "96ee230f",
   "metadata": {},
   "outputs": [
    {
     "name": "stdout",
     "output_type": "stream",
     "text": [
      "Epoch 1/30\n",
      "\u001b[1m494/495\u001b[0m \u001b[32m━━━━━━━━━━━━━━━━━━━\u001b[0m\u001b[37m━\u001b[0m \u001b[1m0s\u001b[0m 6ms/step - accuracy: 0.3652 - loss: 1.8150\n",
      "Epoch 1: val_loss improved from inf to 1.76816, saving model to checkpoints\\best_model.keras\n",
      "\u001b[1m495/495\u001b[0m \u001b[32m━━━━━━━━━━━━━━━━━━━━\u001b[0m\u001b[37m\u001b[0m \u001b[1m8s\u001b[0m 9ms/step - accuracy: 0.3653 - loss: 1.8149 - val_accuracy: 0.3789 - val_loss: 1.7682 - learning_rate: 0.0010\n",
      "Epoch 2/30\n",
      "\u001b[1m491/495\u001b[0m \u001b[32m━━━━━━━━━━━━━━━━━━━\u001b[0m\u001b[37m━\u001b[0m \u001b[1m0s\u001b[0m 6ms/step - accuracy: 0.3750 - loss: 1.7829\n",
      "Epoch 2: val_loss improved from 1.76816 to 1.76716, saving model to checkpoints\\best_model.keras\n",
      "\u001b[1m495/495\u001b[0m \u001b[32m━━━━━━━━━━━━━━━━━━━━\u001b[0m\u001b[37m\u001b[0m \u001b[1m4s\u001b[0m 8ms/step - accuracy: 0.3750 - loss: 1.7828 - val_accuracy: 0.3789 - val_loss: 1.7672 - learning_rate: 0.0010\n",
      "Epoch 3/30\n",
      "\u001b[1m488/495\u001b[0m \u001b[32m━━━━━━━━━━━━━━━━━━━\u001b[0m\u001b[37m━\u001b[0m \u001b[1m0s\u001b[0m 6ms/step - accuracy: 0.3749 - loss: 1.7773\n",
      "Epoch 3: val_loss improved from 1.76716 to 1.76678, saving model to checkpoints\\best_model.keras\n",
      "\u001b[1m495/495\u001b[0m \u001b[32m━━━━━━━━━━━━━━━━━━━━\u001b[0m\u001b[37m\u001b[0m \u001b[1m4s\u001b[0m 9ms/step - accuracy: 0.3750 - loss: 1.7772 - val_accuracy: 0.3789 - val_loss: 1.7668 - learning_rate: 0.0010\n",
      "Epoch 4/30\n",
      "\u001b[1m493/495\u001b[0m \u001b[32m━━━━━━━━━━━━━━━━━━━\u001b[0m\u001b[37m━\u001b[0m \u001b[1m0s\u001b[0m 7ms/step - accuracy: 0.3750 - loss: 1.7766\n",
      "Epoch 4: val_loss improved from 1.76678 to 1.76640, saving model to checkpoints\\best_model.keras\n",
      "\u001b[1m495/495\u001b[0m \u001b[32m━━━━━━━━━━━━━━━━━━━━\u001b[0m\u001b[37m\u001b[0m \u001b[1m5s\u001b[0m 10ms/step - accuracy: 0.3750 - loss: 1.7766 - val_accuracy: 0.3789 - val_loss: 1.7664 - learning_rate: 0.0010\n",
      "Epoch 5/30\n",
      "\u001b[1m494/495\u001b[0m \u001b[32m━━━━━━━━━━━━━━━━━━━\u001b[0m\u001b[37m━\u001b[0m \u001b[1m0s\u001b[0m 7ms/step - accuracy: 0.3750 - loss: 1.7750\n",
      "Epoch 5: val_loss did not improve from 1.76640\n",
      "\u001b[1m495/495\u001b[0m \u001b[32m━━━━━━━━━━━━━━━━━━━━\u001b[0m\u001b[37m\u001b[0m \u001b[1m5s\u001b[0m 10ms/step - accuracy: 0.3750 - loss: 1.7750 - val_accuracy: 0.3789 - val_loss: 1.7665 - learning_rate: 0.0010\n",
      "Epoch 6/30\n",
      "\u001b[1m495/495\u001b[0m \u001b[32m━━━━━━━━━━━━━━━━━━━━\u001b[0m\u001b[37m\u001b[0m \u001b[1m0s\u001b[0m 6ms/step - accuracy: 0.3750 - loss: 1.7758\n",
      "Epoch 6: val_loss improved from 1.76640 to 1.76639, saving model to checkpoints\\best_model.keras\n",
      "\u001b[1m495/495\u001b[0m \u001b[32m━━━━━━━━━━━━━━━━━━━━\u001b[0m\u001b[37m\u001b[0m \u001b[1m5s\u001b[0m 8ms/step - accuracy: 0.3750 - loss: 1.7758 - val_accuracy: 0.3789 - val_loss: 1.7664 - learning_rate: 0.0010\n",
      "Epoch 7/30\n",
      "\u001b[1m490/495\u001b[0m \u001b[32m━━━━━━━━━━━━━━━━━━━\u001b[0m\u001b[37m━\u001b[0m \u001b[1m0s\u001b[0m 7ms/step - accuracy: 0.3750 - loss: 1.7735\n",
      "Epoch 7: val_loss did not improve from 1.76639\n",
      "\u001b[1m495/495\u001b[0m \u001b[32m━━━━━━━━━━━━━━━━━━━━\u001b[0m\u001b[37m\u001b[0m \u001b[1m5s\u001b[0m 10ms/step - accuracy: 0.3750 - loss: 1.7735 - val_accuracy: 0.3789 - val_loss: 1.7664 - learning_rate: 0.0010\n",
      "Epoch 8/30\n",
      "\u001b[1m489/495\u001b[0m \u001b[32m━━━━━━━━━━━━━━━━━━━\u001b[0m\u001b[37m━\u001b[0m \u001b[1m0s\u001b[0m 6ms/step - accuracy: 0.3749 - loss: 1.7725\n",
      "Epoch 8: val_loss did not improve from 1.76639\n",
      "\u001b[1m495/495\u001b[0m \u001b[32m━━━━━━━━━━━━━━━━━━━━\u001b[0m\u001b[37m\u001b[0m \u001b[1m5s\u001b[0m 9ms/step - accuracy: 0.3750 - loss: 1.7725 - val_accuracy: 0.3789 - val_loss: 1.7664 - learning_rate: 0.0010\n",
      "Epoch 9/30\n",
      "\u001b[1m489/495\u001b[0m \u001b[32m━━━━━━━━━━━━━━━━━━━\u001b[0m\u001b[37m━\u001b[0m \u001b[1m0s\u001b[0m 7ms/step - accuracy: 0.3749 - loss: 1.7732\n",
      "Epoch 9: val_loss improved from 1.76639 to 1.76634, saving model to checkpoints\\best_model.keras\n",
      "\n",
      "Epoch 9: ReduceLROnPlateau reducing learning rate to 0.0005000000237487257.\n",
      "\u001b[1m495/495\u001b[0m \u001b[32m━━━━━━━━━━━━━━━━━━━━\u001b[0m\u001b[37m\u001b[0m \u001b[1m5s\u001b[0m 10ms/step - accuracy: 0.3750 - loss: 1.7732 - val_accuracy: 0.3789 - val_loss: 1.7663 - learning_rate: 0.0010\n",
      "Epoch 10/30\n",
      "\u001b[1m490/495\u001b[0m \u001b[32m━━━━━━━━━━━━━━━━━━━\u001b[0m\u001b[37m━\u001b[0m \u001b[1m0s\u001b[0m 6ms/step - accuracy: 0.3750 - loss: 1.7718\n",
      "Epoch 10: val_loss improved from 1.76634 to 1.76634, saving model to checkpoints\\best_model.keras\n",
      "\u001b[1m495/495\u001b[0m \u001b[32m━━━━━━━━━━━━━━━━━━━━\u001b[0m\u001b[37m\u001b[0m \u001b[1m4s\u001b[0m 9ms/step - accuracy: 0.3750 - loss: 1.7718 - val_accuracy: 0.3789 - val_loss: 1.7663 - learning_rate: 5.0000e-04\n",
      "Epoch 11/30\n",
      "\u001b[1m494/495\u001b[0m \u001b[32m━━━━━━━━━━━━━━━━━━━\u001b[0m\u001b[37m━\u001b[0m \u001b[1m0s\u001b[0m 6ms/step - accuracy: 0.3750 - loss: 1.7714\n",
      "Epoch 11: val_loss did not improve from 1.76634\n",
      "\u001b[1m495/495\u001b[0m \u001b[32m━━━━━━━━━━━━━━━━━━━━\u001b[0m\u001b[37m\u001b[0m \u001b[1m4s\u001b[0m 9ms/step - accuracy: 0.3750 - loss: 1.7714 - val_accuracy: 0.3789 - val_loss: 1.7665 - learning_rate: 5.0000e-04\n",
      "Epoch 12/30\n",
      "\u001b[1m489/495\u001b[0m \u001b[32m━━━━━━━━━━━━━━━━━━━\u001b[0m\u001b[37m━\u001b[0m \u001b[1m0s\u001b[0m 6ms/step - accuracy: 0.3749 - loss: 1.7710\n",
      "Epoch 12: val_loss did not improve from 1.76634\n",
      "\u001b[1m495/495\u001b[0m \u001b[32m━━━━━━━━━━━━━━━━━━━━\u001b[0m\u001b[37m\u001b[0m \u001b[1m4s\u001b[0m 9ms/step - accuracy: 0.3750 - loss: 1.7709 - val_accuracy: 0.3789 - val_loss: 1.7666 - learning_rate: 5.0000e-04\n",
      "Epoch 13/30\n",
      "\u001b[1m492/495\u001b[0m \u001b[32m━━━━━━━━━━━━━━━━━━━\u001b[0m\u001b[37m━\u001b[0m \u001b[1m0s\u001b[0m 7ms/step - accuracy: 0.3750 - loss: 1.7698\n",
      "Epoch 13: val_loss did not improve from 1.76634\n",
      "\u001b[1m495/495\u001b[0m \u001b[32m━━━━━━━━━━━━━━━━━━━━\u001b[0m\u001b[37m\u001b[0m \u001b[1m5s\u001b[0m 9ms/step - accuracy: 0.3750 - loss: 1.7698 - val_accuracy: 0.3789 - val_loss: 1.7667 - learning_rate: 5.0000e-04\n",
      "Epoch 14/30\n",
      "\u001b[1m492/495\u001b[0m \u001b[32m━━━━━━━━━━━━━━━━━━━\u001b[0m\u001b[37m━\u001b[0m \u001b[1m0s\u001b[0m 7ms/step - accuracy: 0.3750 - loss: 1.7706\n",
      "Epoch 14: val_loss did not improve from 1.76634\n",
      "\n",
      "Epoch 14: ReduceLROnPlateau reducing learning rate to 0.0002500000118743628.\n",
      "\u001b[1m495/495\u001b[0m \u001b[32m━━━━━━━━━━━━━━━━━━━━\u001b[0m\u001b[37m\u001b[0m \u001b[1m5s\u001b[0m 10ms/step - accuracy: 0.3750 - loss: 1.7706 - val_accuracy: 0.3789 - val_loss: 1.7668 - learning_rate: 5.0000e-04\n",
      "Epoch 15/30\n",
      "\u001b[1m490/495\u001b[0m \u001b[32m━━━━━━━━━━━━━━━━━━━\u001b[0m\u001b[37m━\u001b[0m \u001b[1m0s\u001b[0m 7ms/step - accuracy: 0.3750 - loss: 1.7695\n",
      "Epoch 15: val_loss did not improve from 1.76634\n",
      "\u001b[1m495/495\u001b[0m \u001b[32m━━━━━━━━━━━━━━━━━━━━\u001b[0m\u001b[37m\u001b[0m \u001b[1m5s\u001b[0m 10ms/step - accuracy: 0.3750 - loss: 1.7694 - val_accuracy: 0.3789 - val_loss: 1.7666 - learning_rate: 2.5000e-04\n",
      "Epoch 16/30\n",
      "\u001b[1m492/495\u001b[0m \u001b[32m━━━━━━━━━━━━━━━━━━━\u001b[0m\u001b[37m━\u001b[0m \u001b[1m0s\u001b[0m 6ms/step - accuracy: 0.3750 - loss: 1.7697\n",
      "Epoch 16: val_loss did not improve from 1.76634\n",
      "\u001b[1m495/495\u001b[0m \u001b[32m━━━━━━━━━━━━━━━━━━━━\u001b[0m\u001b[37m\u001b[0m \u001b[1m4s\u001b[0m 9ms/step - accuracy: 0.3750 - loss: 1.7697 - val_accuracy: 0.3789 - val_loss: 1.7668 - learning_rate: 2.5000e-04\n",
      "Epoch 17/30\n",
      "\u001b[1m487/495\u001b[0m \u001b[32m━━━━━━━━━━━━━━━━━━━\u001b[0m\u001b[37m━\u001b[0m \u001b[1m0s\u001b[0m 6ms/step - accuracy: 0.3749 - loss: 1.7701\n",
      "Epoch 17: val_loss did not improve from 1.76634\n",
      "\u001b[1m495/495\u001b[0m \u001b[32m━━━━━━━━━━━━━━━━━━━━\u001b[0m\u001b[37m\u001b[0m \u001b[1m4s\u001b[0m 8ms/step - accuracy: 0.3750 - loss: 1.7700 - val_accuracy: 0.3789 - val_loss: 1.7668 - learning_rate: 2.5000e-04\n",
      "Epoch 18/30\n",
      "\u001b[1m490/495\u001b[0m \u001b[32m━━━━━━━━━━━━━━━━━━━\u001b[0m\u001b[37m━\u001b[0m \u001b[1m0s\u001b[0m 6ms/step - accuracy: 0.3750 - loss: 1.7700\n",
      "Epoch 18: val_loss did not improve from 1.76634\n",
      "\u001b[1m495/495\u001b[0m \u001b[32m━━━━━━━━━━━━━━━━━━━━\u001b[0m\u001b[37m\u001b[0m \u001b[1m4s\u001b[0m 9ms/step - accuracy: 0.3750 - loss: 1.7700 - val_accuracy: 0.3789 - val_loss: 1.7669 - learning_rate: 2.5000e-04\n",
      "Epoch 19/30\n",
      "\u001b[1m493/495\u001b[0m \u001b[32m━━━━━━━━━━━━━━━━━━━\u001b[0m\u001b[37m━\u001b[0m \u001b[1m0s\u001b[0m 6ms/step - accuracy: 0.3750 - loss: 1.7702\n",
      "Epoch 19: val_loss did not improve from 1.76634\n",
      "\n",
      "Epoch 19: ReduceLROnPlateau reducing learning rate to 0.0001250000059371814.\n",
      "\u001b[1m495/495\u001b[0m \u001b[32m━━━━━━━━━━━━━━━━━━━━\u001b[0m\u001b[37m\u001b[0m \u001b[1m5s\u001b[0m 9ms/step - accuracy: 0.3750 - loss: 1.7702 - val_accuracy: 0.3789 - val_loss: 1.7671 - learning_rate: 2.5000e-04\n",
      "Epoch 20/30\n",
      "\u001b[1m494/495\u001b[0m \u001b[32m━━━━━━━━━━━━━━━━━━━\u001b[0m\u001b[37m━\u001b[0m \u001b[1m0s\u001b[0m 7ms/step - accuracy: 0.3750 - loss: 1.7688\n",
      "Epoch 20: val_loss did not improve from 1.76634\n",
      "\u001b[1m495/495\u001b[0m \u001b[32m━━━━━━━━━━━━━━━━━━━━\u001b[0m\u001b[37m\u001b[0m \u001b[1m5s\u001b[0m 9ms/step - accuracy: 0.3750 - loss: 1.7688 - val_accuracy: 0.3789 - val_loss: 1.7672 - learning_rate: 1.2500e-04\n"
     ]
    }
   ],
   "source": [
    "history = classifier.fit(\n",
    "    X_train_lstm_seq, y_train_cat,\n",
    "    validation_data=(X_val_seq, y_val_cat),\n",
    "    epochs=30,\n",
    "    batch_size=64,\n",
    "    callbacks=callbacks,\n",
    "    # class_weight=class_weight_dict,\n",
    "    verbose=1\n",
    ")"
   ]
  },
  {
   "cell_type": "code",
   "execution_count": 45,
   "id": "83ed524b",
   "metadata": {},
   "outputs": [
    {
     "name": "stdout",
     "output_type": "stream",
     "text": [
      "y train:\n",
      "(31654, 8)\n",
      "[[0. 0. 1. 0. 0. 0. 0. 0.]\n",
      " [0. 0. 0. 0. 0. 1. 0. 0.]\n",
      " [0. 0. 0. 1. 0. 0. 0. 0.]\n",
      " [1. 0. 0. 0. 0. 0. 0. 0.]\n",
      " [1. 0. 0. 0. 0. 0. 0. 0.]]\n",
      "\n",
      "y val:\n",
      "(28487, 8)\n",
      "[[0. 0. 0. 0. 0. 1. 0. 0.]\n",
      " [0. 0. 0. 1. 0. 0. 0. 0.]\n",
      " [0. 0. 0. 1. 0. 0. 0. 0.]\n",
      " [0. 0. 0. 0. 1. 0. 0. 0.]\n",
      " [0. 0. 0. 1. 0. 0. 0. 0.]]\n"
     ]
    }
   ],
   "source": [
    "print('y train:')\n",
    "print(y_train_cat.shape)\n",
    "print(y_train_cat[:5])\n",
    "\n",
    "print('\\ny val:')\n",
    "print(y_val_cat.shape)\n",
    "print(y_val_cat[:5])"
   ]
  },
  {
   "cell_type": "code",
   "execution_count": 27,
   "id": "e3741826",
   "metadata": {},
   "outputs": [
    {
     "name": "stdout",
     "output_type": "stream",
     "text": [
      "(array([0, 1, 2, 3, 4, 5, 6, 7]), array([ 5000,  5000,  5000, 15000,  5000,  2902,   529,  1156],\n",
      "      dtype=int64))\n"
     ]
    }
   ],
   "source": [
    "print(np.unique(y_encoded, return_counts=True))"
   ]
  },
  {
   "cell_type": "code",
   "execution_count": 32,
   "id": "4b95762d",
   "metadata": {},
   "outputs": [
    {
     "name": "stdout",
     "output_type": "stream",
     "text": [
      "Hasil prediksi model:\n",
      "\u001b[1m1/1\u001b[0m \u001b[32m━━━━━━━━━━━━━━━━━━━━\u001b[0m\u001b[37m\u001b[0m \u001b[1m0s\u001b[0m 31ms/step\n"
     ]
    },
    {
     "data": {
      "text/plain": [
       "array([[0.15949412, 0.11571546, 0.14915389, 0.224301  , 0.13751116,\n",
       "        0.13154677, 0.02233692, 0.05994076],\n",
       "       [0.1591552 , 0.11631775, 0.14858672, 0.22458471, 0.13849154,\n",
       "        0.13062593, 0.02234523, 0.05989292],\n",
       "       [0.16055559, 0.11780465, 0.1474144 , 0.22134021, 0.13820468,\n",
       "        0.13293482, 0.0218084 , 0.05993725],\n",
       "       [0.16014442, 0.11704721, 0.1480187 , 0.2223922 , 0.13864738,\n",
       "        0.13273682, 0.02187281, 0.05914047],\n",
       "       [0.15939598, 0.11567051, 0.14805615, 0.22505951, 0.13788432,\n",
       "        0.13211128, 0.02216054, 0.05966171],\n",
       "       [0.157556  , 0.1147057 , 0.14852342, 0.22796592, 0.13678314,\n",
       "        0.1307942 , 0.02297952, 0.060692  ],\n",
       "       [0.15621747, 0.11347461, 0.14968233, 0.22880475, 0.13526691,\n",
       "        0.13056296, 0.02394201, 0.06204904],\n",
       "       [0.15214261, 0.11518343, 0.15072729, 0.2323031 , 0.13511182,\n",
       "        0.12599999, 0.02654511, 0.06198659],\n",
       "       [0.15631089, 0.11393839, 0.149306  , 0.22847158, 0.13602616,\n",
       "        0.1301596 , 0.0240394 , 0.06174798],\n",
       "       [0.1584905 , 0.11322223, 0.14820032, 0.22719678, 0.13709559,\n",
       "        0.13254823, 0.02279028, 0.06045604]], dtype=float32)"
      ]
     },
     "execution_count": 32,
     "metadata": {},
     "output_type": "execute_result"
    }
   ],
   "source": [
    "print('Hasil prediksi model:')\n",
    "classifier.predict(X_train_lstm_seq[:10])"
   ]
  },
  {
   "cell_type": "code",
   "execution_count": 33,
   "id": "da57af8d",
   "metadata": {},
   "outputs": [
    {
     "name": "stdout",
     "output_type": "stream",
     "text": [
      "\u001b[1m891/891\u001b[0m \u001b[32m━━━━━━━━━━━━━━━━━━━━\u001b[0m\u001b[37m\u001b[0m \u001b[1m9s\u001b[0m 9ms/step\n",
      "              precision    recall  f1-score   support\n",
      "\n",
      "           0       0.00      0.00      0.00      3596\n",
      "           1       0.00      0.00      0.00      3599\n",
      "           2       0.00      0.00      0.00      3599\n",
      "           3       0.38      1.00      0.55     10794\n",
      "           4       0.00      0.00      0.00      3598\n",
      "           5       0.00      0.00      0.00      2088\n",
      "           6       0.00      0.00      0.00       381\n",
      "           7       0.00      0.00      0.00       832\n",
      "\n",
      "    accuracy                           0.38     28487\n",
      "   macro avg       0.05      0.12      0.07     28487\n",
      "weighted avg       0.14      0.38      0.21     28487\n",
      "\n"
     ]
    }
   ],
   "source": [
    "y_pred = classifier.predict(X_val_seq)\n",
    "y_pred_labels = np.argmax(y_pred, axis=1)\n",
    "y_true_labels = np.argmax(y_val_cat, axis=1)\n",
    "\n",
    "print(classification_report(y_true_labels, y_pred_labels))"
   ]
  },
  {
   "cell_type": "code",
   "execution_count": null,
   "id": "39005931",
   "metadata": {},
   "outputs": [
    {
     "data": {
      "text/html": [
       "<pre style=\"white-space:pre;overflow-x:auto;line-height:normal;font-family:Menlo,'DejaVu Sans Mono',consolas,'Courier New',monospace\"><span style=\"font-weight: bold\">Model: \"Classifier\"</span>\n",
       "</pre>\n"
      ],
      "text/plain": [
       "\u001b[1mModel: \"Classifier\"\u001b[0m\n"
      ]
     },
     "metadata": {},
     "output_type": "display_data"
    },
    {
     "data": {
      "text/html": [
       "<pre style=\"white-space:pre;overflow-x:auto;line-height:normal;font-family:Menlo,'DejaVu Sans Mono',consolas,'Courier New',monospace\">┏━━━━━━━━━━━━━━━━━━━━━┳━━━━━━━━━━━━━━━━━━━┳━━━━━━━━━━━━┳━━━━━━━━━━━━━━━━━━━┓\n",
       "┃<span style=\"font-weight: bold\"> Layer (type)        </span>┃<span style=\"font-weight: bold\"> Output Shape      </span>┃<span style=\"font-weight: bold\">    Param # </span>┃<span style=\"font-weight: bold\"> Connected to      </span>┃\n",
       "┡━━━━━━━━━━━━━━━━━━━━━╇━━━━━━━━━━━━━━━━━━━╇━━━━━━━━━━━━╇━━━━━━━━━━━━━━━━━━━┩\n",
       "│ input_layer_6       │ (<span style=\"color: #00d7ff; text-decoration-color: #00d7ff\">None</span>, <span style=\"color: #00af00; text-decoration-color: #00af00\">10</span>, <span style=\"color: #00af00; text-decoration-color: #00af00\">13</span>)    │          <span style=\"color: #00af00; text-decoration-color: #00af00\">0</span> │ -                 │\n",
       "│ (<span style=\"color: #0087ff; text-decoration-color: #0087ff\">InputLayer</span>)        │                   │            │                   │\n",
       "├─────────────────────┼───────────────────┼────────────┼───────────────────┤\n",
       "│ bidirectional_6     │ (<span style=\"color: #00d7ff; text-decoration-color: #00d7ff\">None</span>, <span style=\"color: #00af00; text-decoration-color: #00af00\">10</span>, <span style=\"color: #00af00; text-decoration-color: #00af00\">128</span>)   │     <span style=\"color: #00af00; text-decoration-color: #00af00\">39,936</span> │ input_layer_6[<span style=\"color: #00af00; text-decoration-color: #00af00\">0</span>]… │\n",
       "│ (<span style=\"color: #0087ff; text-decoration-color: #0087ff\">Bidirectional</span>)     │                   │            │                   │\n",
       "├─────────────────────┼───────────────────┼────────────┼───────────────────┤\n",
       "│ bidirectional_7     │ (<span style=\"color: #00d7ff; text-decoration-color: #00d7ff\">None</span>, <span style=\"color: #00af00; text-decoration-color: #00af00\">10</span>, <span style=\"color: #00af00; text-decoration-color: #00af00\">64</span>)    │     <span style=\"color: #00af00; text-decoration-color: #00af00\">41,216</span> │ bidirectional_6[<span style=\"color: #00af00; text-decoration-color: #00af00\">…</span> │\n",
       "│ (<span style=\"color: #0087ff; text-decoration-color: #0087ff\">Bidirectional</span>)     │                   │            │                   │\n",
       "├─────────────────────┼───────────────────┼────────────┼───────────────────┤\n",
       "│ attention_layer     │ (<span style=\"color: #00d7ff; text-decoration-color: #00d7ff\">None</span>, <span style=\"color: #00af00; text-decoration-color: #00af00\">10</span>, <span style=\"color: #00af00; text-decoration-color: #00af00\">64</span>)    │          <span style=\"color: #00af00; text-decoration-color: #00af00\">0</span> │ bidirectional_7[<span style=\"color: #00af00; text-decoration-color: #00af00\">…</span> │\n",
       "│ (<span style=\"color: #0087ff; text-decoration-color: #0087ff\">Attention</span>)         │                   │            │ bidirectional_7[<span style=\"color: #00af00; text-decoration-color: #00af00\">…</span> │\n",
       "├─────────────────────┼───────────────────┼────────────┼───────────────────┤\n",
       "│ attention_pool      │ (<span style=\"color: #00d7ff; text-decoration-color: #00d7ff\">None</span>, <span style=\"color: #00af00; text-decoration-color: #00af00\">64</span>)        │          <span style=\"color: #00af00; text-decoration-color: #00af00\">0</span> │ attention_layer[<span style=\"color: #00af00; text-decoration-color: #00af00\">…</span> │\n",
       "│ (<span style=\"color: #0087ff; text-decoration-color: #0087ff\">GlobalAveragePool…</span> │                   │            │                   │\n",
       "├─────────────────────┼───────────────────┼────────────┼───────────────────┤\n",
       "│ dense_6 (<span style=\"color: #0087ff; text-decoration-color: #0087ff\">Dense</span>)     │ (<span style=\"color: #00d7ff; text-decoration-color: #00d7ff\">None</span>, <span style=\"color: #00af00; text-decoration-color: #00af00\">32</span>)        │      <span style=\"color: #00af00; text-decoration-color: #00af00\">2,080</span> │ attention_pool[<span style=\"color: #00af00; text-decoration-color: #00af00\">0</span>… │\n",
       "├─────────────────────┼───────────────────┼────────────┼───────────────────┤\n",
       "│ cls_out (<span style=\"color: #0087ff; text-decoration-color: #0087ff\">Dense</span>)     │ (<span style=\"color: #00d7ff; text-decoration-color: #00d7ff\">None</span>, <span style=\"color: #00af00; text-decoration-color: #00af00\">8</span>)         │        <span style=\"color: #00af00; text-decoration-color: #00af00\">264</span> │ dense_6[<span style=\"color: #00af00; text-decoration-color: #00af00\">0</span>][<span style=\"color: #00af00; text-decoration-color: #00af00\">0</span>]     │\n",
       "└─────────────────────┴───────────────────┴────────────┴───────────────────┘\n",
       "</pre>\n"
      ],
      "text/plain": [
       "┏━━━━━━━━━━━━━━━━━━━━━┳━━━━━━━━━━━━━━━━━━━┳━━━━━━━━━━━━┳━━━━━━━━━━━━━━━━━━━┓\n",
       "┃\u001b[1m \u001b[0m\u001b[1mLayer (type)       \u001b[0m\u001b[1m \u001b[0m┃\u001b[1m \u001b[0m\u001b[1mOutput Shape     \u001b[0m\u001b[1m \u001b[0m┃\u001b[1m \u001b[0m\u001b[1m   Param #\u001b[0m\u001b[1m \u001b[0m┃\u001b[1m \u001b[0m\u001b[1mConnected to     \u001b[0m\u001b[1m \u001b[0m┃\n",
       "┡━━━━━━━━━━━━━━━━━━━━━╇━━━━━━━━━━━━━━━━━━━╇━━━━━━━━━━━━╇━━━━━━━━━━━━━━━━━━━┩\n",
       "│ input_layer_6       │ (\u001b[38;5;45mNone\u001b[0m, \u001b[38;5;34m10\u001b[0m, \u001b[38;5;34m13\u001b[0m)    │          \u001b[38;5;34m0\u001b[0m │ -                 │\n",
       "│ (\u001b[38;5;33mInputLayer\u001b[0m)        │                   │            │                   │\n",
       "├─────────────────────┼───────────────────┼────────────┼───────────────────┤\n",
       "│ bidirectional_6     │ (\u001b[38;5;45mNone\u001b[0m, \u001b[38;5;34m10\u001b[0m, \u001b[38;5;34m128\u001b[0m)   │     \u001b[38;5;34m39,936\u001b[0m │ input_layer_6[\u001b[38;5;34m0\u001b[0m]… │\n",
       "│ (\u001b[38;5;33mBidirectional\u001b[0m)     │                   │            │                   │\n",
       "├─────────────────────┼───────────────────┼────────────┼───────────────────┤\n",
       "│ bidirectional_7     │ (\u001b[38;5;45mNone\u001b[0m, \u001b[38;5;34m10\u001b[0m, \u001b[38;5;34m64\u001b[0m)    │     \u001b[38;5;34m41,216\u001b[0m │ bidirectional_6[\u001b[38;5;34m…\u001b[0m │\n",
       "│ (\u001b[38;5;33mBidirectional\u001b[0m)     │                   │            │                   │\n",
       "├─────────────────────┼───────────────────┼────────────┼───────────────────┤\n",
       "│ attention_layer     │ (\u001b[38;5;45mNone\u001b[0m, \u001b[38;5;34m10\u001b[0m, \u001b[38;5;34m64\u001b[0m)    │          \u001b[38;5;34m0\u001b[0m │ bidirectional_7[\u001b[38;5;34m…\u001b[0m │\n",
       "│ (\u001b[38;5;33mAttention\u001b[0m)         │                   │            │ bidirectional_7[\u001b[38;5;34m…\u001b[0m │\n",
       "├─────────────────────┼───────────────────┼────────────┼───────────────────┤\n",
       "│ attention_pool      │ (\u001b[38;5;45mNone\u001b[0m, \u001b[38;5;34m64\u001b[0m)        │          \u001b[38;5;34m0\u001b[0m │ attention_layer[\u001b[38;5;34m…\u001b[0m │\n",
       "│ (\u001b[38;5;33mGlobalAveragePool…\u001b[0m │                   │            │                   │\n",
       "├─────────────────────┼───────────────────┼────────────┼───────────────────┤\n",
       "│ dense_6 (\u001b[38;5;33mDense\u001b[0m)     │ (\u001b[38;5;45mNone\u001b[0m, \u001b[38;5;34m32\u001b[0m)        │      \u001b[38;5;34m2,080\u001b[0m │ attention_pool[\u001b[38;5;34m0\u001b[0m… │\n",
       "├─────────────────────┼───────────────────┼────────────┼───────────────────┤\n",
       "│ cls_out (\u001b[38;5;33mDense\u001b[0m)     │ (\u001b[38;5;45mNone\u001b[0m, \u001b[38;5;34m8\u001b[0m)         │        \u001b[38;5;34m264\u001b[0m │ dense_6[\u001b[38;5;34m0\u001b[0m][\u001b[38;5;34m0\u001b[0m]     │\n",
       "└─────────────────────┴───────────────────┴────────────┴───────────────────┘\n"
      ]
     },
     "metadata": {},
     "output_type": "display_data"
    },
    {
     "data": {
      "text/html": [
       "<pre style=\"white-space:pre;overflow-x:auto;line-height:normal;font-family:Menlo,'DejaVu Sans Mono',consolas,'Courier New',monospace\"><span style=\"font-weight: bold\"> Total params: </span><span style=\"color: #00af00; text-decoration-color: #00af00\">83,496</span> (326.16 KB)\n",
       "</pre>\n"
      ],
      "text/plain": [
       "\u001b[1m Total params: \u001b[0m\u001b[38;5;34m83,496\u001b[0m (326.16 KB)\n"
      ]
     },
     "metadata": {},
     "output_type": "display_data"
    },
    {
     "data": {
      "text/html": [
       "<pre style=\"white-space:pre;overflow-x:auto;line-height:normal;font-family:Menlo,'DejaVu Sans Mono',consolas,'Courier New',monospace\"><span style=\"font-weight: bold\"> Trainable params: </span><span style=\"color: #00af00; text-decoration-color: #00af00\">83,496</span> (326.16 KB)\n",
       "</pre>\n"
      ],
      "text/plain": [
       "\u001b[1m Trainable params: \u001b[0m\u001b[38;5;34m83,496\u001b[0m (326.16 KB)\n"
      ]
     },
     "metadata": {},
     "output_type": "display_data"
    },
    {
     "data": {
      "text/html": [
       "<pre style=\"white-space:pre;overflow-x:auto;line-height:normal;font-family:Menlo,'DejaVu Sans Mono',consolas,'Courier New',monospace\"><span style=\"font-weight: bold\"> Non-trainable params: </span><span style=\"color: #00af00; text-decoration-color: #00af00\">0</span> (0.00 B)\n",
       "</pre>\n"
      ],
      "text/plain": [
       "\u001b[1m Non-trainable params: \u001b[0m\u001b[38;5;34m0\u001b[0m (0.00 B)\n"
      ]
     },
     "metadata": {},
     "output_type": "display_data"
    },
    {
     "data": {
      "text/html": [
       "<pre style=\"white-space:pre;overflow-x:auto;line-height:normal;font-family:Menlo,'DejaVu Sans Mono',consolas,'Courier New',monospace\"><span style=\"font-weight: bold\">Model: \"Anomaly_Detection\"</span>\n",
       "</pre>\n"
      ],
      "text/plain": [
       "\u001b[1mModel: \"Anomaly_Detection\"\u001b[0m\n"
      ]
     },
     "metadata": {},
     "output_type": "display_data"
    },
    {
     "data": {
      "text/html": [
       "<pre style=\"white-space:pre;overflow-x:auto;line-height:normal;font-family:Menlo,'DejaVu Sans Mono',consolas,'Courier New',monospace\">┏━━━━━━━━━━━━━━━━━━━━━━━━━━━━━━━━━┳━━━━━━━━━━━━━━━━━━━━━━━━┳━━━━━━━━━━━━━━━┓\n",
       "┃<span style=\"font-weight: bold\"> Layer (type)                    </span>┃<span style=\"font-weight: bold\"> Output Shape           </span>┃<span style=\"font-weight: bold\">       Param # </span>┃\n",
       "┡━━━━━━━━━━━━━━━━━━━━━━━━━━━━━━━━━╇━━━━━━━━━━━━━━━━━━━━━━━━╇━━━━━━━━━━━━━━━┩\n",
       "│ input_layer_7 (<span style=\"color: #0087ff; text-decoration-color: #0087ff\">InputLayer</span>)      │ (<span style=\"color: #00d7ff; text-decoration-color: #00d7ff\">None</span>, <span style=\"color: #00af00; text-decoration-color: #00af00\">10</span>, <span style=\"color: #00af00; text-decoration-color: #00af00\">13</span>)         │             <span style=\"color: #00af00; text-decoration-color: #00af00\">0</span> │\n",
       "├─────────────────────────────────┼────────────────────────┼───────────────┤\n",
       "│ lstm_20 (<span style=\"color: #0087ff; text-decoration-color: #0087ff\">LSTM</span>)                  │ (<span style=\"color: #00d7ff; text-decoration-color: #00d7ff\">None</span>, <span style=\"color: #00af00; text-decoration-color: #00af00\">10</span>, <span style=\"color: #00af00; text-decoration-color: #00af00\">32</span>)         │         <span style=\"color: #00af00; text-decoration-color: #00af00\">5,888</span> │\n",
       "├─────────────────────────────────┼────────────────────────┼───────────────┤\n",
       "│ lstm_21 (<span style=\"color: #0087ff; text-decoration-color: #0087ff\">LSTM</span>)                  │ (<span style=\"color: #00d7ff; text-decoration-color: #00d7ff\">None</span>, <span style=\"color: #00af00; text-decoration-color: #00af00\">16</span>)             │         <span style=\"color: #00af00; text-decoration-color: #00af00\">3,136</span> │\n",
       "├─────────────────────────────────┼────────────────────────┼───────────────┤\n",
       "│ latent_space (<span style=\"color: #0087ff; text-decoration-color: #0087ff\">Dense</span>)            │ (<span style=\"color: #00d7ff; text-decoration-color: #00d7ff\">None</span>, <span style=\"color: #00af00; text-decoration-color: #00af00\">8</span>)              │           <span style=\"color: #00af00; text-decoration-color: #00af00\">136</span> │\n",
       "├─────────────────────────────────┼────────────────────────┼───────────────┤\n",
       "│ repeat_vector_3 (<span style=\"color: #0087ff; text-decoration-color: #0087ff\">RepeatVector</span>)  │ (<span style=\"color: #00d7ff; text-decoration-color: #00d7ff\">None</span>, <span style=\"color: #00af00; text-decoration-color: #00af00\">10</span>, <span style=\"color: #00af00; text-decoration-color: #00af00\">8</span>)          │             <span style=\"color: #00af00; text-decoration-color: #00af00\">0</span> │\n",
       "├─────────────────────────────────┼────────────────────────┼───────────────┤\n",
       "│ lstm_22 (<span style=\"color: #0087ff; text-decoration-color: #0087ff\">LSTM</span>)                  │ (<span style=\"color: #00d7ff; text-decoration-color: #00d7ff\">None</span>, <span style=\"color: #00af00; text-decoration-color: #00af00\">10</span>, <span style=\"color: #00af00; text-decoration-color: #00af00\">16</span>)         │         <span style=\"color: #00af00; text-decoration-color: #00af00\">1,600</span> │\n",
       "├─────────────────────────────────┼────────────────────────┼───────────────┤\n",
       "│ lstm_23 (<span style=\"color: #0087ff; text-decoration-color: #0087ff\">LSTM</span>)                  │ (<span style=\"color: #00d7ff; text-decoration-color: #00d7ff\">None</span>, <span style=\"color: #00af00; text-decoration-color: #00af00\">10</span>, <span style=\"color: #00af00; text-decoration-color: #00af00\">32</span>)         │         <span style=\"color: #00af00; text-decoration-color: #00af00\">6,272</span> │\n",
       "├─────────────────────────────────┼────────────────────────┼───────────────┤\n",
       "│ ae_out (<span style=\"color: #0087ff; text-decoration-color: #0087ff\">TimeDistributed</span>)        │ (<span style=\"color: #00d7ff; text-decoration-color: #00d7ff\">None</span>, <span style=\"color: #00af00; text-decoration-color: #00af00\">10</span>, <span style=\"color: #00af00; text-decoration-color: #00af00\">13</span>)         │           <span style=\"color: #00af00; text-decoration-color: #00af00\">429</span> │\n",
       "└─────────────────────────────────┴────────────────────────┴───────────────┘\n",
       "</pre>\n"
      ],
      "text/plain": [
       "┏━━━━━━━━━━━━━━━━━━━━━━━━━━━━━━━━━┳━━━━━━━━━━━━━━━━━━━━━━━━┳━━━━━━━━━━━━━━━┓\n",
       "┃\u001b[1m \u001b[0m\u001b[1mLayer (type)                   \u001b[0m\u001b[1m \u001b[0m┃\u001b[1m \u001b[0m\u001b[1mOutput Shape          \u001b[0m\u001b[1m \u001b[0m┃\u001b[1m \u001b[0m\u001b[1m      Param #\u001b[0m\u001b[1m \u001b[0m┃\n",
       "┡━━━━━━━━━━━━━━━━━━━━━━━━━━━━━━━━━╇━━━━━━━━━━━━━━━━━━━━━━━━╇━━━━━━━━━━━━━━━┩\n",
       "│ input_layer_7 (\u001b[38;5;33mInputLayer\u001b[0m)      │ (\u001b[38;5;45mNone\u001b[0m, \u001b[38;5;34m10\u001b[0m, \u001b[38;5;34m13\u001b[0m)         │             \u001b[38;5;34m0\u001b[0m │\n",
       "├─────────────────────────────────┼────────────────────────┼───────────────┤\n",
       "│ lstm_20 (\u001b[38;5;33mLSTM\u001b[0m)                  │ (\u001b[38;5;45mNone\u001b[0m, \u001b[38;5;34m10\u001b[0m, \u001b[38;5;34m32\u001b[0m)         │         \u001b[38;5;34m5,888\u001b[0m │\n",
       "├─────────────────────────────────┼────────────────────────┼───────────────┤\n",
       "│ lstm_21 (\u001b[38;5;33mLSTM\u001b[0m)                  │ (\u001b[38;5;45mNone\u001b[0m, \u001b[38;5;34m16\u001b[0m)             │         \u001b[38;5;34m3,136\u001b[0m │\n",
       "├─────────────────────────────────┼────────────────────────┼───────────────┤\n",
       "│ latent_space (\u001b[38;5;33mDense\u001b[0m)            │ (\u001b[38;5;45mNone\u001b[0m, \u001b[38;5;34m8\u001b[0m)              │           \u001b[38;5;34m136\u001b[0m │\n",
       "├─────────────────────────────────┼────────────────────────┼───────────────┤\n",
       "│ repeat_vector_3 (\u001b[38;5;33mRepeatVector\u001b[0m)  │ (\u001b[38;5;45mNone\u001b[0m, \u001b[38;5;34m10\u001b[0m, \u001b[38;5;34m8\u001b[0m)          │             \u001b[38;5;34m0\u001b[0m │\n",
       "├─────────────────────────────────┼────────────────────────┼───────────────┤\n",
       "│ lstm_22 (\u001b[38;5;33mLSTM\u001b[0m)                  │ (\u001b[38;5;45mNone\u001b[0m, \u001b[38;5;34m10\u001b[0m, \u001b[38;5;34m16\u001b[0m)         │         \u001b[38;5;34m1,600\u001b[0m │\n",
       "├─────────────────────────────────┼────────────────────────┼───────────────┤\n",
       "│ lstm_23 (\u001b[38;5;33mLSTM\u001b[0m)                  │ (\u001b[38;5;45mNone\u001b[0m, \u001b[38;5;34m10\u001b[0m, \u001b[38;5;34m32\u001b[0m)         │         \u001b[38;5;34m6,272\u001b[0m │\n",
       "├─────────────────────────────────┼────────────────────────┼───────────────┤\n",
       "│ ae_out (\u001b[38;5;33mTimeDistributed\u001b[0m)        │ (\u001b[38;5;45mNone\u001b[0m, \u001b[38;5;34m10\u001b[0m, \u001b[38;5;34m13\u001b[0m)         │           \u001b[38;5;34m429\u001b[0m │\n",
       "└─────────────────────────────────┴────────────────────────┴───────────────┘\n"
      ]
     },
     "metadata": {},
     "output_type": "display_data"
    },
    {
     "data": {
      "text/html": [
       "<pre style=\"white-space:pre;overflow-x:auto;line-height:normal;font-family:Menlo,'DejaVu Sans Mono',consolas,'Courier New',monospace\"><span style=\"font-weight: bold\"> Total params: </span><span style=\"color: #00af00; text-decoration-color: #00af00\">17,461</span> (68.21 KB)\n",
       "</pre>\n"
      ],
      "text/plain": [
       "\u001b[1m Total params: \u001b[0m\u001b[38;5;34m17,461\u001b[0m (68.21 KB)\n"
      ]
     },
     "metadata": {},
     "output_type": "display_data"
    },
    {
     "data": {
      "text/html": [
       "<pre style=\"white-space:pre;overflow-x:auto;line-height:normal;font-family:Menlo,'DejaVu Sans Mono',consolas,'Courier New',monospace\"><span style=\"font-weight: bold\"> Trainable params: </span><span style=\"color: #00af00; text-decoration-color: #00af00\">17,461</span> (68.21 KB)\n",
       "</pre>\n"
      ],
      "text/plain": [
       "\u001b[1m Trainable params: \u001b[0m\u001b[38;5;34m17,461\u001b[0m (68.21 KB)\n"
      ]
     },
     "metadata": {},
     "output_type": "display_data"
    },
    {
     "data": {
      "text/html": [
       "<pre style=\"white-space:pre;overflow-x:auto;line-height:normal;font-family:Menlo,'DejaVu Sans Mono',consolas,'Courier New',monospace\"><span style=\"font-weight: bold\"> Non-trainable params: </span><span style=\"color: #00af00; text-decoration-color: #00af00\">0</span> (0.00 B)\n",
       "</pre>\n"
      ],
      "text/plain": [
       "\u001b[1m Non-trainable params: \u001b[0m\u001b[38;5;34m0\u001b[0m (0.00 B)\n"
      ]
     },
     "metadata": {},
     "output_type": "display_data"
    },
    {
     "data": {
      "text/html": [
       "<pre style=\"white-space:pre;overflow-x:auto;line-height:normal;font-family:Menlo,'DejaVu Sans Mono',consolas,'Courier New',monospace\"><span style=\"font-weight: bold\">Model: \"Hybrid_Model\"</span>\n",
       "</pre>\n"
      ],
      "text/plain": [
       "\u001b[1mModel: \"Hybrid_Model\"\u001b[0m\n"
      ]
     },
     "metadata": {},
     "output_type": "display_data"
    },
    {
     "data": {
      "text/html": [
       "<pre style=\"white-space:pre;overflow-x:auto;line-height:normal;font-family:Menlo,'DejaVu Sans Mono',consolas,'Courier New',monospace\">┏━━━━━━━━━━━━━━━━━━━━━┳━━━━━━━━━━━━━━━━━━━┳━━━━━━━━━━━━┳━━━━━━━━━━━━━━━━━━━┓\n",
       "┃<span style=\"font-weight: bold\"> Layer (type)        </span>┃<span style=\"font-weight: bold\"> Output Shape      </span>┃<span style=\"font-weight: bold\">    Param # </span>┃<span style=\"font-weight: bold\"> Connected to      </span>┃\n",
       "┡━━━━━━━━━━━━━━━━━━━━━╇━━━━━━━━━━━━━━━━━━━╇━━━━━━━━━━━━╇━━━━━━━━━━━━━━━━━━━┩\n",
       "│ hyb_ae_in           │ (<span style=\"color: #00d7ff; text-decoration-color: #00d7ff\">None</span>, <span style=\"color: #00af00; text-decoration-color: #00af00\">10</span>, <span style=\"color: #00af00; text-decoration-color: #00af00\">13</span>)    │          <span style=\"color: #00af00; text-decoration-color: #00af00\">0</span> │ -                 │\n",
       "│ (<span style=\"color: #0087ff; text-decoration-color: #0087ff\">InputLayer</span>)        │                   │            │                   │\n",
       "├─────────────────────┼───────────────────┼────────────┼───────────────────┤\n",
       "│ hyb_cls_in          │ (<span style=\"color: #00d7ff; text-decoration-color: #00d7ff\">None</span>, <span style=\"color: #00af00; text-decoration-color: #00af00\">10</span>, <span style=\"color: #00af00; text-decoration-color: #00af00\">13</span>)    │          <span style=\"color: #00af00; text-decoration-color: #00af00\">0</span> │ -                 │\n",
       "│ (<span style=\"color: #0087ff; text-decoration-color: #0087ff\">InputLayer</span>)        │                   │            │                   │\n",
       "├─────────────────────┼───────────────────┼────────────┼───────────────────┤\n",
       "│ Anomaly_Detection   │ (<span style=\"color: #00d7ff; text-decoration-color: #00d7ff\">None</span>, <span style=\"color: #00af00; text-decoration-color: #00af00\">10</span>, <span style=\"color: #00af00; text-decoration-color: #00af00\">13</span>)    │     <span style=\"color: #00af00; text-decoration-color: #00af00\">17,461</span> │ hyb_ae_in[<span style=\"color: #00af00; text-decoration-color: #00af00\">0</span>][<span style=\"color: #00af00; text-decoration-color: #00af00\">0</span>]   │\n",
       "│ (<span style=\"color: #0087ff; text-decoration-color: #0087ff\">Functional</span>)        │                   │            │                   │\n",
       "├─────────────────────┼───────────────────┼────────────┼───────────────────┤\n",
       "│ Classifier          │ (<span style=\"color: #00d7ff; text-decoration-color: #00d7ff\">None</span>, <span style=\"color: #00af00; text-decoration-color: #00af00\">8</span>)         │     <span style=\"color: #00af00; text-decoration-color: #00af00\">83,496</span> │ hyb_cls_in[<span style=\"color: #00af00; text-decoration-color: #00af00\">0</span>][<span style=\"color: #00af00; text-decoration-color: #00af00\">0</span>]  │\n",
       "│ (<span style=\"color: #0087ff; text-decoration-color: #0087ff\">Functional</span>)        │                   │            │                   │\n",
       "└─────────────────────┴───────────────────┴────────────┴───────────────────┘\n",
       "</pre>\n"
      ],
      "text/plain": [
       "┏━━━━━━━━━━━━━━━━━━━━━┳━━━━━━━━━━━━━━━━━━━┳━━━━━━━━━━━━┳━━━━━━━━━━━━━━━━━━━┓\n",
       "┃\u001b[1m \u001b[0m\u001b[1mLayer (type)       \u001b[0m\u001b[1m \u001b[0m┃\u001b[1m \u001b[0m\u001b[1mOutput Shape     \u001b[0m\u001b[1m \u001b[0m┃\u001b[1m \u001b[0m\u001b[1m   Param #\u001b[0m\u001b[1m \u001b[0m┃\u001b[1m \u001b[0m\u001b[1mConnected to     \u001b[0m\u001b[1m \u001b[0m┃\n",
       "┡━━━━━━━━━━━━━━━━━━━━━╇━━━━━━━━━━━━━━━━━━━╇━━━━━━━━━━━━╇━━━━━━━━━━━━━━━━━━━┩\n",
       "│ hyb_ae_in           │ (\u001b[38;5;45mNone\u001b[0m, \u001b[38;5;34m10\u001b[0m, \u001b[38;5;34m13\u001b[0m)    │          \u001b[38;5;34m0\u001b[0m │ -                 │\n",
       "│ (\u001b[38;5;33mInputLayer\u001b[0m)        │                   │            │                   │\n",
       "├─────────────────────┼───────────────────┼────────────┼───────────────────┤\n",
       "│ hyb_cls_in          │ (\u001b[38;5;45mNone\u001b[0m, \u001b[38;5;34m10\u001b[0m, \u001b[38;5;34m13\u001b[0m)    │          \u001b[38;5;34m0\u001b[0m │ -                 │\n",
       "│ (\u001b[38;5;33mInputLayer\u001b[0m)        │                   │            │                   │\n",
       "├─────────────────────┼───────────────────┼────────────┼───────────────────┤\n",
       "│ Anomaly_Detection   │ (\u001b[38;5;45mNone\u001b[0m, \u001b[38;5;34m10\u001b[0m, \u001b[38;5;34m13\u001b[0m)    │     \u001b[38;5;34m17,461\u001b[0m │ hyb_ae_in[\u001b[38;5;34m0\u001b[0m][\u001b[38;5;34m0\u001b[0m]   │\n",
       "│ (\u001b[38;5;33mFunctional\u001b[0m)        │                   │            │                   │\n",
       "├─────────────────────┼───────────────────┼────────────┼───────────────────┤\n",
       "│ Classifier          │ (\u001b[38;5;45mNone\u001b[0m, \u001b[38;5;34m8\u001b[0m)         │     \u001b[38;5;34m83,496\u001b[0m │ hyb_cls_in[\u001b[38;5;34m0\u001b[0m][\u001b[38;5;34m0\u001b[0m]  │\n",
       "│ (\u001b[38;5;33mFunctional\u001b[0m)        │                   │            │                   │\n",
       "└─────────────────────┴───────────────────┴────────────┴───────────────────┘\n"
      ]
     },
     "metadata": {},
     "output_type": "display_data"
    },
    {
     "data": {
      "text/html": [
       "<pre style=\"white-space:pre;overflow-x:auto;line-height:normal;font-family:Menlo,'DejaVu Sans Mono',consolas,'Courier New',monospace\"><span style=\"font-weight: bold\"> Total params: </span><span style=\"color: #00af00; text-decoration-color: #00af00\">100,957</span> (394.36 KB)\n",
       "</pre>\n"
      ],
      "text/plain": [
       "\u001b[1m Total params: \u001b[0m\u001b[38;5;34m100,957\u001b[0m (394.36 KB)\n"
      ]
     },
     "metadata": {},
     "output_type": "display_data"
    },
    {
     "data": {
      "text/html": [
       "<pre style=\"white-space:pre;overflow-x:auto;line-height:normal;font-family:Menlo,'DejaVu Sans Mono',consolas,'Courier New',monospace\"><span style=\"font-weight: bold\"> Trainable params: </span><span style=\"color: #00af00; text-decoration-color: #00af00\">100,957</span> (394.36 KB)\n",
       "</pre>\n"
      ],
      "text/plain": [
       "\u001b[1m Trainable params: \u001b[0m\u001b[38;5;34m100,957\u001b[0m (394.36 KB)\n"
      ]
     },
     "metadata": {},
     "output_type": "display_data"
    },
    {
     "data": {
      "text/html": [
       "<pre style=\"white-space:pre;overflow-x:auto;line-height:normal;font-family:Menlo,'DejaVu Sans Mono',consolas,'Courier New',monospace\"><span style=\"font-weight: bold\"> Non-trainable params: </span><span style=\"color: #00af00; text-decoration-color: #00af00\">0</span> (0.00 B)\n",
       "</pre>\n"
      ],
      "text/plain": [
       "\u001b[1m Non-trainable params: \u001b[0m\u001b[38;5;34m0\u001b[0m (0.00 B)\n"
      ]
     },
     "metadata": {},
     "output_type": "display_data"
    }
   ],
   "source": [
    "# --- Autoencoder (Anomaly Detection) ---\n",
    "ae_input = Input(shape=(timesteps, n_features_ae))\n",
    "enc_1 = layers.LSTM(32, return_sequences=True)(ae_input)\n",
    "enc_2 = layers.LSTM(16, return_sequences=False)(enc_1)\n",
    "latent = layers.Dense(8, activation='relu', name='latent_space')(enc_2)\n",
    "\n",
    "dec_rep = layers.RepeatVector(timesteps)(latent)\n",
    "dec_1 = layers.LSTM(16, return_sequences=True)(dec_rep)\n",
    "dec_2 = layers.LSTM(32, return_sequences=True)(dec_1)\n",
    "ae_out = layers.TimeDistributed(layers.Dense(n_features_ae), name='ae_out')(dec_2)\n",
    "\n",
    "Anomaly_Detection = models.Model(ae_input, ae_out, name='Anomaly_Detection')\n",
    "\n",
    "# --- Hybrid Model ---\n",
    "combined_input_cls = Input(shape=(timesteps, n_features_lstm), name='hyb_cls_in')\n",
    "combined_input_ae = Input(shape=(timesteps, n_features_ae), name='hyb_ae_in')\n",
    "cls_pred = Classifier(combined_input_cls)\n",
    "ad_pred = Anomaly_Detection(combined_input_ae)\n",
    "Hybrid_Model = models.Model(\n",
    "    inputs=[combined_input_cls, combined_input_ae],\n",
    "    outputs={'cls_out': cls_pred, 'ae_out': ad_pred},\n",
    "    name='Hybrid_Model'\n",
    ")\n",
    "\n",
    "Anomaly_Detection.compile(loss='mse', optimizer=Adam(), metrics=['mse'])\n",
    "Hybrid_Model.compile(optimizer='adam',\n",
    "                     loss={'cls_out': 'categorical_crossentropy', 'ae_out': 'mse'},\n",
    "                     loss_weights={'cls_out': 0.7, 'ae_out': 0.3},\n",
    "                     metrics={'Classifier': 'accuracy', 'Anomaly_Detection': 'mse'})\n",
    "\n",
    "Anomaly_Detection.summary()\n",
    "Hybrid_Model.summary()"
   ]
  },
  {
   "cell_type": "code",
   "execution_count": 28,
   "id": "c9f5e33b",
   "metadata": {},
   "outputs": [
    {
     "name": "stdout",
     "output_type": "stream",
     "text": [
      "Final class weights: {0: 0.684908379212814, 1: 0.6850322093185396, 2: 0.6850322093185396, 3: 0.28393775408480415, 4: 0.6850322093185396, 5: 0.9909225173580166, 6: 2.3276738615824724, 7: 1.657460859806274}\n",
      "Sample weights shape: (31659,)\n"
     ]
    }
   ],
   "source": [
    "# Define callbacks\n",
    "early_stopping = EarlyStopping(\n",
    "    monitor='val_loss',\n",
    "    patience=5,\n",
    "    restore_best_weights=True,\n",
    "    verbose=1\n",
    ")\n",
    "\n",
    "reduce_lr = ReduceLROnPlateau(\n",
    "    monitor='val_loss',\n",
    "    factor=0.2,\n",
    "    patience=3,\n",
    "    min_lr=0.0001,\n",
    "    verbose=1\n",
    ")\n",
    "\n",
    "callbacks = [early_stopping, reduce_lr]\n",
    "\n",
    "# Calculate class weights for imbalanced data\n",
    "raw_weights = compute_class_weight('balanced', classes=np.unique(y_train_lstm_seq), y=y_train_lstm_seq)\n",
    "# Gunakan log transform agar tidak ekstrem\n",
    "scaled_weights = np.log1p(raw_weights)\n",
    "# Normalisasi supaya rata-rata = 1\n",
    "normalized_weights = scaled_weights / np.mean(scaled_weights)\n",
    "# Konversi ke dict\n",
    "class_weight_dict = dict(enumerate(normalized_weights))\n",
    "print(\"Final class weights:\", class_weight_dict)\n",
    "cls_sample_weights = np.array([class_weight_dict[label] for label in y_train_lstm_seq])\n",
    "print(\"Sample weights shape:\", cls_sample_weights.shape)"
   ]
  },
  {
   "cell_type": "code",
   "execution_count": 17,
   "id": "f6adc3a4",
   "metadata": {},
   "outputs": [
    {
     "name": "stdout",
     "output_type": "stream",
     "text": [
      "X_train shape: (31659, 10, 13)\n",
      "y_train_cat shape: (31659, 8)\n",
      "X_val shape: (28492, 10, 13)\n",
      "y_val_cat shape: (28492, 8)\n"
     ]
    }
   ],
   "source": [
    "print(\"X_train shape:\", X_train_lstm_seq.shape)\n",
    "print(\"y_train_cat shape:\", y_train_cat.shape)\n",
    "\n",
    "print(\"X_val shape:\", X_val_seq.shape)\n",
    "print(\"y_val_cat shape:\", y_val_cat.shape)"
   ]
  },
  {
   "cell_type": "code",
   "execution_count": 29,
   "id": "74e18813",
   "metadata": {},
   "outputs": [
    {
     "name": "stdout",
     "output_type": "stream",
     "text": [
      "Epoch 1/50\n",
      "\u001b[1m990/990\u001b[0m \u001b[32m━━━━━━━━━━━━━━━━━━━━\u001b[0m\u001b[37m\u001b[0m \u001b[1m17s\u001b[0m 11ms/step - accuracy: 0.3322 - loss: 1.2297 - val_accuracy: 0.3789 - val_loss: 1.9286 - learning_rate: 0.0010\n",
      "Epoch 2/50\n",
      "\u001b[1m990/990\u001b[0m \u001b[32m━━━━━━━━━━━━━━━━━━━━\u001b[0m\u001b[37m\u001b[0m \u001b[1m10s\u001b[0m 10ms/step - accuracy: 0.3752 - loss: 1.2258 - val_accuracy: 0.3789 - val_loss: 1.9267 - learning_rate: 0.0010\n",
      "Epoch 3/50\n",
      "\u001b[1m990/990\u001b[0m \u001b[32m━━━━━━━━━━━━━━━━━━━━\u001b[0m\u001b[37m\u001b[0m \u001b[1m12s\u001b[0m 12ms/step - accuracy: 0.3757 - loss: 1.2254 - val_accuracy: 0.3789 - val_loss: 1.9284 - learning_rate: 0.0010\n",
      "Epoch 4/50\n",
      "\u001b[1m990/990\u001b[0m \u001b[32m━━━━━━━━━━━━━━━━━━━━\u001b[0m\u001b[37m\u001b[0m \u001b[1m12s\u001b[0m 12ms/step - accuracy: 0.3758 - loss: 1.2254 - val_accuracy: 0.3789 - val_loss: 1.9285 - learning_rate: 0.0010\n",
      "Epoch 5/50\n",
      "\u001b[1m990/990\u001b[0m \u001b[32m━━━━━━━━━━━━━━━━━━━━\u001b[0m\u001b[37m\u001b[0m \u001b[1m21s\u001b[0m 12ms/step - accuracy: 0.3758 - loss: 1.2253 - val_accuracy: 0.3789 - val_loss: 1.9252 - learning_rate: 0.0010\n",
      "Epoch 6/50\n",
      "\u001b[1m990/990\u001b[0m \u001b[32m━━━━━━━━━━━━━━━━━━━━\u001b[0m\u001b[37m\u001b[0m \u001b[1m21s\u001b[0m 12ms/step - accuracy: 0.3758 - loss: 1.2251 - val_accuracy: 0.3789 - val_loss: 1.9289 - learning_rate: 0.0010\n",
      "Epoch 7/50\n",
      "\u001b[1m990/990\u001b[0m \u001b[32m━━━━━━━━━━━━━━━━━━━━\u001b[0m\u001b[37m\u001b[0m \u001b[1m12s\u001b[0m 12ms/step - accuracy: 0.3758 - loss: 1.2252 - val_accuracy: 0.3789 - val_loss: 1.9243 - learning_rate: 0.0010\n",
      "Epoch 8/50\n",
      "\u001b[1m990/990\u001b[0m \u001b[32m━━━━━━━━━━━━━━━━━━━━\u001b[0m\u001b[37m\u001b[0m \u001b[1m9s\u001b[0m 9ms/step - accuracy: 0.3758 - loss: 1.2250 - val_accuracy: 0.3789 - val_loss: 1.9244 - learning_rate: 0.0010\n",
      "Epoch 9/50\n",
      "\u001b[1m990/990\u001b[0m \u001b[32m━━━━━━━━━━━━━━━━━━━━\u001b[0m\u001b[37m\u001b[0m \u001b[1m11s\u001b[0m 10ms/step - accuracy: 0.3758 - loss: 1.2250 - val_accuracy: 0.3789 - val_loss: 1.9233 - learning_rate: 0.0010\n",
      "Epoch 10/50\n",
      "\u001b[1m990/990\u001b[0m \u001b[32m━━━━━━━━━━━━━━━━━━━━\u001b[0m\u001b[37m\u001b[0m \u001b[1m12s\u001b[0m 12ms/step - accuracy: 0.3758 - loss: 1.2250 - val_accuracy: 0.3789 - val_loss: 1.9241 - learning_rate: 0.0010\n",
      "Epoch 11/50\n",
      "\u001b[1m990/990\u001b[0m \u001b[32m━━━━━━━━━━━━━━━━━━━━\u001b[0m\u001b[37m\u001b[0m \u001b[1m10s\u001b[0m 10ms/step - accuracy: 0.3758 - loss: 1.2249 - val_accuracy: 0.3789 - val_loss: 1.9238 - learning_rate: 0.0010\n",
      "Epoch 12/50\n",
      "\u001b[1m990/990\u001b[0m \u001b[32m━━━━━━━━━━━━━━━━━━━━\u001b[0m\u001b[37m\u001b[0m \u001b[1m9s\u001b[0m 9ms/step - accuracy: 0.3758 - loss: 1.2249 - val_accuracy: 0.3789 - val_loss: 1.9220 - learning_rate: 0.0010\n",
      "Epoch 13/50\n",
      "\u001b[1m990/990\u001b[0m \u001b[32m━━━━━━━━━━━━━━━━━━━━\u001b[0m\u001b[37m\u001b[0m \u001b[1m9s\u001b[0m 9ms/step - accuracy: 0.3758 - loss: 1.2249 - val_accuracy: 0.3789 - val_loss: 1.9234 - learning_rate: 0.0010\n",
      "Epoch 14/50\n",
      "\u001b[1m990/990\u001b[0m \u001b[32m━━━━━━━━━━━━━━━━━━━━\u001b[0m\u001b[37m\u001b[0m \u001b[1m9s\u001b[0m 9ms/step - accuracy: 0.3758 - loss: 1.2248 - val_accuracy: 0.3789 - val_loss: 1.9222 - learning_rate: 0.0010\n",
      "Epoch 15/50\n",
      "\u001b[1m984/990\u001b[0m \u001b[32m━━━━━━━━━━━━━━━━━━━\u001b[0m\u001b[37m━\u001b[0m \u001b[1m0s\u001b[0m 7ms/step - accuracy: 0.3758 - loss: 1.2246\n",
      "Epoch 15: ReduceLROnPlateau reducing learning rate to 0.00020000000949949026.\n",
      "\u001b[1m990/990\u001b[0m \u001b[32m━━━━━━━━━━━━━━━━━━━━\u001b[0m\u001b[37m\u001b[0m \u001b[1m9s\u001b[0m 9ms/step - accuracy: 0.3758 - loss: 1.2247 - val_accuracy: 0.3789 - val_loss: 1.9238 - learning_rate: 0.0010\n",
      "Epoch 16/50\n",
      "\u001b[1m990/990\u001b[0m \u001b[32m━━━━━━━━━━━━━━━━━━━━\u001b[0m\u001b[37m\u001b[0m \u001b[1m10s\u001b[0m 10ms/step - accuracy: 0.3758 - loss: 1.2245 - val_accuracy: 0.3789 - val_loss: 1.9106 - learning_rate: 2.0000e-04\n",
      "Epoch 17/50\n",
      "\u001b[1m990/990\u001b[0m \u001b[32m━━━━━━━━━━━━━━━━━━━━\u001b[0m\u001b[37m\u001b[0m \u001b[1m11s\u001b[0m 11ms/step - accuracy: 0.3758 - loss: 1.2237 - val_accuracy: 0.3789 - val_loss: 1.9110 - learning_rate: 2.0000e-04\n",
      "Epoch 18/50\n",
      "\u001b[1m990/990\u001b[0m \u001b[32m━━━━━━━━━━━━━━━━━━━━\u001b[0m\u001b[37m\u001b[0m \u001b[1m21s\u001b[0m 12ms/step - accuracy: 0.3758 - loss: 1.2239 - val_accuracy: 0.3789 - val_loss: 1.9106 - learning_rate: 2.0000e-04\n",
      "Epoch 19/50\n",
      "\u001b[1m987/990\u001b[0m \u001b[32m━━━━━━━━━━━━━━━━━━━\u001b[0m\u001b[37m━\u001b[0m \u001b[1m0s\u001b[0m 9ms/step - accuracy: 0.3758 - loss: 1.2236\n",
      "Epoch 19: ReduceLROnPlateau reducing learning rate to 0.0001.\n",
      "\u001b[1m990/990\u001b[0m \u001b[32m━━━━━━━━━━━━━━━━━━━━\u001b[0m\u001b[37m\u001b[0m \u001b[1m11s\u001b[0m 11ms/step - accuracy: 0.3758 - loss: 1.2236 - val_accuracy: 0.3789 - val_loss: 1.9126 - learning_rate: 2.0000e-04\n",
      "Epoch 20/50\n",
      "\u001b[1m990/990\u001b[0m \u001b[32m━━━━━━━━━━━━━━━━━━━━\u001b[0m\u001b[37m\u001b[0m \u001b[1m11s\u001b[0m 12ms/step - accuracy: 0.3758 - loss: 1.2237 - val_accuracy: 0.3789 - val_loss: 1.9081 - learning_rate: 1.0000e-04\n",
      "Epoch 21/50\n",
      "\u001b[1m990/990\u001b[0m \u001b[32m━━━━━━━━━━━━━━━━━━━━\u001b[0m\u001b[37m\u001b[0m \u001b[1m10s\u001b[0m 10ms/step - accuracy: 0.3758 - loss: 1.2236 - val_accuracy: 0.3789 - val_loss: 1.9086 - learning_rate: 1.0000e-04\n",
      "Epoch 22/50\n",
      "\u001b[1m990/990\u001b[0m \u001b[32m━━━━━━━━━━━━━━━━━━━━\u001b[0m\u001b[37m\u001b[0m \u001b[1m12s\u001b[0m 12ms/step - accuracy: 0.3758 - loss: 1.2234 - val_accuracy: 0.3789 - val_loss: 1.9077 - learning_rate: 1.0000e-04\n",
      "Epoch 23/50\n",
      "\u001b[1m990/990\u001b[0m \u001b[32m━━━━━━━━━━━━━━━━━━━━\u001b[0m\u001b[37m\u001b[0m \u001b[1m12s\u001b[0m 12ms/step - accuracy: 0.3758 - loss: 1.2231 - val_accuracy: 0.3789 - val_loss: 1.9081 - learning_rate: 1.0000e-04\n",
      "Epoch 24/50\n",
      "\u001b[1m990/990\u001b[0m \u001b[32m━━━━━━━━━━━━━━━━━━━━\u001b[0m\u001b[37m\u001b[0m \u001b[1m11s\u001b[0m 11ms/step - accuracy: 0.3758 - loss: 1.2232 - val_accuracy: 0.3789 - val_loss: 1.9077 - learning_rate: 1.0000e-04\n",
      "Epoch 25/50\n",
      "\u001b[1m990/990\u001b[0m \u001b[32m━━━━━━━━━━━━━━━━━━━━\u001b[0m\u001b[37m\u001b[0m \u001b[1m12s\u001b[0m 12ms/step - accuracy: 0.3758 - loss: 1.2229 - val_accuracy: 0.3789 - val_loss: 1.9092 - learning_rate: 1.0000e-04\n",
      "Epoch 26/50\n",
      "\u001b[1m990/990\u001b[0m \u001b[32m━━━━━━━━━━━━━━━━━━━━\u001b[0m\u001b[37m\u001b[0m \u001b[1m13s\u001b[0m 13ms/step - accuracy: 0.3759 - loss: 1.2231 - val_accuracy: 0.3789 - val_loss: 1.9101 - learning_rate: 1.0000e-04\n",
      "Epoch 27/50\n",
      "\u001b[1m990/990\u001b[0m \u001b[32m━━━━━━━━━━━━━━━━━━━━\u001b[0m\u001b[37m\u001b[0m \u001b[1m24s\u001b[0m 16ms/step - accuracy: 0.3759 - loss: 1.2233 - val_accuracy: 0.3789 - val_loss: 1.9087 - learning_rate: 1.0000e-04\n",
      "Epoch 28/50\n",
      "\u001b[1m990/990\u001b[0m \u001b[32m━━━━━━━━━━━━━━━━━━━━\u001b[0m\u001b[37m\u001b[0m \u001b[1m17s\u001b[0m 13ms/step - accuracy: 0.3756 - loss: 1.2229 - val_accuracy: 0.3789 - val_loss: 1.9079 - learning_rate: 1.0000e-04\n",
      "Epoch 29/50\n",
      "\u001b[1m990/990\u001b[0m \u001b[32m━━━━━━━━━━━━━━━━━━━━\u001b[0m\u001b[37m\u001b[0m \u001b[1m21s\u001b[0m 13ms/step - accuracy: 0.3758 - loss: 1.2228 - val_accuracy: 0.3785 - val_loss: 1.9083 - learning_rate: 1.0000e-04\n",
      "Epoch 29: early stopping\n",
      "Restoring model weights from the end of the best epoch: 24.\n"
     ]
    }
   ],
   "source": [
    "history_cls = Classifier.fit(\n",
    "    X_train_lstm_seq, y_train_cat,\n",
    "    validation_data=(X_val_seq, y_val_cat),\n",
    "    epochs=50, batch_size=32,\n",
    "    callbacks = callbacks,\n",
    "    class_weight = class_weight_dict,\n",
    "    verbose=1\n",
    ")"
   ]
  },
  {
   "cell_type": "code",
   "execution_count": null,
   "id": "92c2af43",
   "metadata": {},
   "outputs": [],
   "source": [
    "# -------------------------\n",
    "# 2. TRAINING\n",
    "# -------------------------\n",
    "y_train_zero = np.zeros((X_train_ae_seq.shape[0], timesteps, n_features_ae))\n",
    "Hybrid_Model.fit(\n",
    "    x=[X_train_lstm_seq, X_train_ae_seq],\n",
    "    y={ 'cls_out' : y_train_cat, 'ae_out' : X_train_ae_seq},\n",
    "    validation_data=([X_val_seq, X_val_seq], {'cls_out' : y_val_cat, 'ae_out' : X_val_seq}),\n",
    "    # sample_weight={\n",
    "    #     'cls_out' : cls_sample_weights,\n",
    "    #     'ae_out': np.ones(X_train_ae_seq.shape[0])\n",
    "    # },\n",
    "    callbacks = callbacks,\n",
    "    epochs=20,\n",
    "    batch_size=32,\n",
    "    verbose=1\n",
    ")\n"
   ]
  },
  {
   "cell_type": "code",
   "execution_count": null,
   "id": "4fd79702",
   "metadata": {},
   "outputs": [],
   "source": [
    "print('X_train_lstm_seq shape:', X_train_lstm_seq.shape)  # e.g. (N, 10, 13)\n",
    "print('X_train_ae_seq shape:', X_train_ae_seq.shape)      # harus (N, 10, 13)\n",
    "print('y_train_cat shape:', y_train_cat.shape)            # harus (N, n_classes)\n"
   ]
  },
  {
   "cell_type": "code",
   "execution_count": null,
   "id": "b475194c",
   "metadata": {},
   "outputs": [],
   "source": []
  },
  {
   "cell_type": "code",
   "execution_count": 30,
   "id": "53df18de",
   "metadata": {},
   "outputs": [
    {
     "name": "stdout",
     "output_type": "stream",
     "text": [
      "\n",
      "==================================================\n",
      "MODEL EVALUATION\n",
      "==================================================\n"
     ]
    },
    {
     "data": {
      "image/png": "[encoded data removed]",
      "text/plain": [
       "<Figure size 1500x500 with 2 Axes>"
      ]
     },
     "metadata": {},
     "output_type": "display_data"
    }
   ],
   "source": [
    "# ================================\n",
    "# 13. MODEL EVALUATION\n",
    "# ================================\n",
    "\n",
    "print(\"\\n\" + \"=\"*50)\n",
    "print(\"MODEL EVALUATION\")\n",
    "print(\"=\"*50)\n",
    "\n",
    "# Plot training history\n",
    "plt.figure(figsize=(15, 5))\n",
    "\n",
    "plt.subplot(1, 3, 1)\n",
    "plt.plot(history_cls.history['loss'], label='Training Loss')\n",
    "plt.plot(history_cls.history['val_loss'], label='Validation Loss')\n",
    "plt.title('Model Loss')\n",
    "plt.xlabel('Epoch')\n",
    "plt.ylabel('Loss')\n",
    "plt.legend()\n",
    "\n",
    "plt.subplot(1, 3, 2)\n",
    "plt.plot(history_cls.history['accuracy'], label='Training Accuracy')\n",
    "plt.plot(history_cls.history['val_accuracy'], label='Validation Accuracy')\n",
    "plt.title('Model Accuracy')\n",
    "plt.xlabel('Epoch')\n",
    "plt.ylabel('Accuracy')\n",
    "plt.legend()\n",
    "\n",
    "# plt.subplot(1, 3, 3)\n",
    "# plt.plot(history.history['precision'], label='Training Precision')\n",
    "# plt.plot(history.history['val_precision'], label='Validation Precision')\n",
    "# plt.title('Model Precision')\n",
    "# plt.xlabel('Epoch')\n",
    "# plt.ylabel('Precision')\n",
    "# plt.legend()\n",
    "\n",
    "plt.tight_layout()\n",
    "plt.show()"
   ]
  },
  {
   "cell_type": "code",
   "execution_count": 24,
   "id": "54d790aa",
   "metadata": {},
   "outputs": [
    {
     "data": {
      "text/plain": [
       "(31669, 13)"
      ]
     },
     "execution_count": 24,
     "metadata": {},
     "output_type": "execute_result"
    }
   ],
   "source": [
    "X_train.shape"
   ]
  },
  {
   "cell_type": "code",
   "execution_count": 25,
   "id": "25da99e8",
   "metadata": {},
   "outputs": [
    {
     "data": {
      "image/png": "[encoded data removed]",
      "text/plain": [
       "<Figure size 600x600 with 1 Axes>"
      ]
     },
     "metadata": {},
     "output_type": "display_data"
    }
   ],
   "source": [
    "tsne = TSNE(n_components=2, perplexity=30, n_iter=1000, random_state=42)\n",
    "X_tsne = tsne.fit_transform(X_train)\n",
    "\n",
    "plt.figure(figsize=(6,6))\n",
    "scatter = plt.scatter(X_tsne[:,0], X_tsne[:,1], c=y_train, cmap='tab10', s=5)\n",
    "plt.legend(*scatter.legend_elements(), title=\"Classes\", bbox_to_anchor=(1,1))\n",
    "plt.title(\"t-SNE of Sequences\")\n",
    "plt.xlabel(\"Dim 1\")\n",
    "plt.ylabel(\"Dim 2\")\n",
    "plt.grid(True)\n",
    "plt.show()"
   ]
  },
  {
   "cell_type": "code",
   "execution_count": null,
   "id": "3d03f1cd",
   "metadata": {},
   "outputs": [],
   "source": []
  },
  {
   "cell_type": "code",
   "execution_count": null,
   "id": "594146eb",
   "metadata": {},
   "outputs": [],
   "source": []
  },
  {
   "cell_type": "code",
   "execution_count": null,
   "id": "892de4d4",
   "metadata": {},
   "outputs": [],
   "source": []
  },
  {
   "cell_type": "code",
   "execution_count": null,
   "id": "843c5808",
   "metadata": {},
   "outputs": [],
   "source": []
  },
  {
   "cell_type": "code",
   "execution_count": null,
   "id": "bc85c3ff",
   "metadata": {},
   "outputs": [],
   "source": []
  },
  {
   "cell_type": "code",
   "execution_count": null,
   "id": "e8e07b84",
   "metadata": {},
   "outputs": [],
   "source": []
  },
  {
   "cell_type": "code",
   "execution_count": null,
   "id": "bc6efbf6",
   "metadata": {},
   "outputs": [],
   "source": []
  },
  {
   "cell_type": "code",
   "execution_count": null,
   "id": "57547531",
   "metadata": {},
   "outputs": [],
   "source": []
  }
 ],
 "metadata": {
  "kernelspec": {
   "display_name": "Python 3",
   "language": "python",
   "name": "python3"
  },
  "language_info": {
   "codemirror_mode": {
    "name": "ipython",
    "version": 3
   },
   "file_extension": ".py",
   "mimetype": "text/x-python",
   "name": "python",
   "nbconvert_exporter": "python",
   "pygments_lexer": "ipython3",
   "version": "3.12.2"
  }
 },
 "nbformat": 4,
 "nbformat_minor": 5
}
